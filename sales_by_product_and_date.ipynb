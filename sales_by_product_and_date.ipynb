{
 "cells": [
  {
   "cell_type": "markdown",
   "metadata": {},
   "source": [
    "# Sales Predictions\n",
    "****"
   ]
  },
  {
   "cell_type": "markdown",
   "metadata": {},
   "source": [
    "# Importing the Libraries\n",
    "****"
   ]
  },
  {
   "cell_type": "code",
   "execution_count": 121,
   "metadata": {},
   "outputs": [],
   "source": [
    "from datetime import datetime\n",
    "import warnings\n",
    "import numpy as np\n",
    "import pandas as pd\n",
    "import seaborn as sn\n",
    "import matplotlib as mpl\n",
    "import matplotlib.pyplot as plt\n",
    "from sklearn.metrics import mean_squared_error\n",
    "from sklearn.linear_model import LinearRegression\n",
    "from sklearn.neighbors import KNeighborsRegressor\n",
    "from sklearn.ensemble import RandomForestRegressor\n",
    "from sklearn.preprocessing import StandardScaler, MinMaxScaler\n",
    "from statsmodels.tsa.seasonal import seasonal_decompose\n",
    "from statsmodels.tsa.stattools import adfuller, acf, pacf,arma_order_select_ic\n",
    "from pmdarima.arima import auto_arima\n",
    "import xgboost as xgb\n",
    "from tensorflow import keras\n",
    "import lightgbm as lgb\n",
    "import itertools \n",
    "import calendar"
   ]
  },
  {
   "cell_type": "markdown",
   "metadata": {},
   "source": [
    "# Get the data\n",
    "****"
   ]
  },
  {
   "cell_type": "markdown",
   "metadata": {},
   "source": [
    "## Importing The Data\n",
    "****"
   ]
  },
  {
   "cell_type": "markdown",
   "metadata": {},
   "source": [
    "## Data Format Converting\n",
    "****\n",
    "\n",
    "Changing the file type from csv to tsv (tab delimiter) and then back to csv because the decimal point separator isn't a dot but a comma."
   ]
  },
  {
   "cell_type": "code",
   "execution_count": 14,
   "metadata": {},
   "outputs": [],
   "source": [
    "X_train = pd.read_csv('X_train.tsv', delimiter='\\t', decimal=\",\")\n",
    "X_train.to_csv(\"X_train_csv.csv\", sep=',', encoding='utf-8', quotechar='\"', decimal='.')\n",
    "\n",
    "X_test = pd.read_csv('X_test.tsv', delimiter='\\t', decimal=\",\")\n",
    "X_test.to_csv(\"X_test_csv.csv\", sep=',', encoding='utf-8', quotechar='\"', decimal='.')\n",
    "\n",
    "y_train = pd.read_csv('y_train.tsv', delimiter='\\t', decimal=\",\")\n",
    "y_train.to_csv(\"y_train_csv.csv\", sep=',', encoding='utf-8', quotechar='\"', decimal='.')\n",
    "\n",
    "y_test = pd.read_csv('y_test.tsv', delimiter='\\t', decimal=\",\")\n",
    "y_test.to_csv(\"y_test_csv.csv\", sep=',', encoding='utf-8', quotechar='\"', decimal='.')"
   ]
  },
  {
   "cell_type": "markdown",
   "metadata": {},
   "source": [
    "# Looking Into The Data\n",
    "****"
   ]
  },
  {
   "cell_type": "code",
   "execution_count": null,
   "metadata": {},
   "outputs": [],
   "source": [
    "X_train.head()"
   ]
  },
  {
   "cell_type": "code",
   "execution_count": null,
   "metadata": {},
   "outputs": [],
   "source": [
    "X_train.describe()"
   ]
  },
  {
   "cell_type": "code",
   "execution_count": null,
   "metadata": {},
   "outputs": [],
   "source": [
    "X_train.dtypes"
   ]
  },
  {
   "cell_type": "markdown",
   "metadata": {},
   "source": [
    "The key attribute presents the product, and the data type is categorical. Distinct products and their count:"
   ]
  },
  {
   "cell_type": "code",
   "execution_count": null,
   "metadata": {},
   "outputs": [],
   "source": [
    "X_train[\"key\"].value_counts()"
   ]
  },
  {
   "cell_type": "markdown",
   "metadata": {},
   "source": [
    "Another way to get distinct values but easier to see all the values:"
   ]
  },
  {
   "cell_type": "code",
   "execution_count": null,
   "metadata": {},
   "outputs": [],
   "source": [
    "np.unique(X_train[\"key\"])"
   ]
  },
  {
   "cell_type": "markdown",
   "metadata": {},
   "source": [
    "# Dealing with Missing Values\n",
    "****"
   ]
  },
  {
   "cell_type": "code",
   "execution_count": 15,
   "metadata": {},
   "outputs": [],
   "source": [
    "def missing_data_percentage(column):\n",
    "    percentage = (X_train[column].isna().sum()/len(X_train[column])) * 100\n",
    "    print('{} column - missing data percentage: {:.2f} %' .format(column, percentage))"
   ]
  },
  {
   "cell_type": "code",
   "execution_count": 16,
   "metadata": {
    "collapsed": true,
    "jupyter": {
     "outputs_hidden": true
    }
   },
   "outputs": [
    {
     "name": "stdout",
     "output_type": "stream",
     "text": [
      "key column - missing data percentage: 0.00 %\n",
      "date column - missing data percentage: 0.00 %\n",
      "x1 column - missing data percentage: 7.55 %\n",
      "x2 column - missing data percentage: 7.63 %\n",
      "x3 column - missing data percentage: 7.59 %\n",
      "x4 column - missing data percentage: 7.61 %\n",
      "x5 column - missing data percentage: 65.91 %\n",
      "x6 column - missing data percentage: 65.56 %\n",
      "x7 column - missing data percentage: 7.79 %\n",
      "x8 column - missing data percentage: 7.79 %\n",
      "x9 column - missing data percentage: 7.55 %\n",
      "x10 column - missing data percentage: 7.70 %\n",
      "x11 column - missing data percentage: 66.01 %\n",
      "x12 column - missing data percentage: 7.53 %\n",
      "x13 column - missing data percentage: 7.55 %\n",
      "x14 column - missing data percentage: 7.53 %\n",
      "x15 column - missing data percentage: 7.82 %\n",
      "x16 column - missing data percentage: 7.61 %\n",
      "x17 column - missing data percentage: 75.76 %\n",
      "x18 column - missing data percentage: 65.83 %\n",
      "x19 column - missing data percentage: 7.59 %\n",
      "x20 column - missing data percentage: 7.61 %\n",
      "x21 column - missing data percentage: 7.60 %\n",
      "x22 column - missing data percentage: 7.50 %\n",
      "x23 column - missing data percentage: 7.55 %\n",
      "x24 column - missing data percentage: 7.55 %\n",
      "x25 column - missing data percentage: 65.41 %\n",
      "x26 column - missing data percentage: 7.53 %\n",
      "x27 column - missing data percentage: 7.55 %\n",
      "x28 column - missing data percentage: 7.53 %\n",
      "x29 column - missing data percentage: 7.73 %\n",
      "x30 column - missing data percentage: 7.50 %\n",
      "x31 column - missing data percentage: 7.50 %\n",
      "x32 column - missing data percentage: 65.82 %\n",
      "x33 column - missing data percentage: 7.49 %\n",
      "x34 column - missing data percentage: 7.50 %\n",
      "x35 column - missing data percentage: 7.50 %\n",
      "x36 column - missing data percentage: 7.81 %\n",
      "x37 column - missing data percentage: 7.59 %\n",
      "x38 column - missing data percentage: 7.59 %\n",
      "x39 column - missing data percentage: 65.68 %\n",
      "x40 column - missing data percentage: 7.56 %\n",
      "x41 column - missing data percentage: 7.59 %\n",
      "x42 column - missing data percentage: 7.56 %\n",
      "x43 column - missing data percentage: 7.79 %\n",
      "x44 column - missing data percentage: 7.59 %\n",
      "x45 column - missing data percentage: 7.51 %\n",
      "x46 column - missing data percentage: 65.82 %\n",
      "x47 column - missing data percentage: 7.54 %\n",
      "x48 column - missing data percentage: 7.59 %\n",
      "x49 column - missing data percentage: 7.56 %\n",
      "x50 column - missing data percentage: 7.68 %\n",
      "x51 column - missing data percentage: 7.48 %\n",
      "x52 column - missing data percentage: 7.48 %\n",
      "x53 column - missing data percentage: 66.00 %\n",
      "x54 column - missing data percentage: 7.50 %\n",
      "x55 column - missing data percentage: 7.48 %\n",
      "x56 column - missing data percentage: 7.50 %\n",
      "x57 column - missing data percentage: 7.74 %\n",
      "x58 column - missing data percentage: 7.50 %\n",
      "x59 column - missing data percentage: 7.50 %\n",
      "x60 column - missing data percentage: 65.78 %\n",
      "x61 column - missing data percentage: 7.46 %\n",
      "x62 column - missing data percentage: 7.50 %\n",
      "x63 column - missing data percentage: 7.49 %\n",
      "x64 column - missing data percentage: 7.64 %\n",
      "x65 column - missing data percentage: 7.43 %\n",
      "x66 column - missing data percentage: 7.43 %\n",
      "x67 column - missing data percentage: 66.01 %\n",
      "x68 column - missing data percentage: 7.44 %\n",
      "x69 column - missing data percentage: 7.43 %\n",
      "x70 column - missing data percentage: 7.43 %\n",
      "x71 column - missing data percentage: 7.64 %\n",
      "x72 column - missing data percentage: 7.42 %\n",
      "x73 column - missing data percentage: 7.42 %\n",
      "x74 column - missing data percentage: 66.00 %\n",
      "x75 column - missing data percentage: 7.40 %\n",
      "x76 column - missing data percentage: 7.42 %\n",
      "x77 column - missing data percentage: 7.41 %\n",
      "x78 column - missing data percentage: 7.56 %\n",
      "x79 column - missing data percentage: 7.38 %\n",
      "x80 column - missing data percentage: 7.38 %\n",
      "x81 column - missing data percentage: 66.08 %\n",
      "x82 column - missing data percentage: 7.37 %\n",
      "x83 column - missing data percentage: 7.38 %\n",
      "x84 column - missing data percentage: 7.38 %\n",
      "x85 column - missing data percentage: 7.83 %\n",
      "x86 column - missing data percentage: 7.61 %\n",
      "x87 column - missing data percentage: 7.61 %\n",
      "x88 column - missing data percentage: 7.51 %\n",
      "x89 column - missing data percentage: 7.59 %\n",
      "x90 column - missing data percentage: 7.61 %\n",
      "x91 column - missing data percentage: 7.60 %\n",
      "x92 column - missing data percentage: 7.75 %\n",
      "x93 column - missing data percentage: 7.55 %\n",
      "x94 column - missing data percentage: 7.55 %\n",
      "x95 column - missing data percentage: 65.97 %\n",
      "x96 column - missing data percentage: 7.53 %\n",
      "x97 column - missing data percentage: 7.55 %\n",
      "x98 column - missing data percentage: 7.54 %\n",
      "x99 column - missing data percentage: 7.87 %\n",
      "x100 column - missing data percentage: 7.63 %\n",
      "x101 column - missing data percentage: 7.51 %\n",
      "x102 column - missing data percentage: 66.36 %\n",
      "x103 column - missing data percentage: 7.59 %\n",
      "x104 column - missing data percentage: 7.63 %\n",
      "x105 column - missing data percentage: 7.60 %\n",
      "x106 column - missing data percentage: 7.60 %\n",
      "x107 column - missing data percentage: 7.35 %\n",
      "x108 column - missing data percentage: 7.35 %\n",
      "x109 column - missing data percentage: 7.49 %\n",
      "x110 column - missing data percentage: 7.31 %\n",
      "x111 column - missing data percentage: 7.35 %\n",
      "x112 column - missing data percentage: 7.34 %\n"
     ]
    }
   ],
   "source": [
    "for column in X_train.columns:\n",
    "    missing_data_percentage(column)"
   ]
  },
  {
   "cell_type": "markdown",
   "metadata": {},
   "source": [
    "The columns with more than 50% of missing values will be removed from the dataset:"
   ]
  },
  {
   "cell_type": "code",
   "execution_count": 17,
   "metadata": {},
   "outputs": [],
   "source": [
    "X_train.drop(['x5', 'x6', 'x11', 'x17', 'x18', 'x25', 'x32', 'x39', 'x46', 'x53', 'x60', 'x67', 'x74', 'x81', 'x95', 'x102' ], axis = 1, inplace=True)"
   ]
  },
  {
   "cell_type": "code",
   "execution_count": 18,
   "metadata": {},
   "outputs": [
    {
     "data": {
      "text/html": [
       "<div>\n",
       "<style scoped>\n",
       "    .dataframe tbody tr th:only-of-type {\n",
       "        vertical-align: middle;\n",
       "    }\n",
       "\n",
       "    .dataframe tbody tr th {\n",
       "        vertical-align: top;\n",
       "    }\n",
       "\n",
       "    .dataframe thead th {\n",
       "        text-align: right;\n",
       "    }\n",
       "</style>\n",
       "<table border=\"1\" class=\"dataframe\">\n",
       "  <thead>\n",
       "    <tr style=\"text-align: right;\">\n",
       "      <th></th>\n",
       "      <th>key</th>\n",
       "      <th>date</th>\n",
       "      <th>x1</th>\n",
       "      <th>x2</th>\n",
       "      <th>x3</th>\n",
       "      <th>x4</th>\n",
       "      <th>x7</th>\n",
       "      <th>x8</th>\n",
       "      <th>x9</th>\n",
       "      <th>x10</th>\n",
       "      <th>...</th>\n",
       "      <th>x103</th>\n",
       "      <th>x104</th>\n",
       "      <th>x105</th>\n",
       "      <th>x106</th>\n",
       "      <th>x107</th>\n",
       "      <th>x108</th>\n",
       "      <th>x109</th>\n",
       "      <th>x110</th>\n",
       "      <th>x111</th>\n",
       "      <th>x112</th>\n",
       "    </tr>\n",
       "  </thead>\n",
       "  <tbody>\n",
       "    <tr>\n",
       "      <th>0</th>\n",
       "      <td>683</td>\n",
       "      <td>01Jan2012</td>\n",
       "      <td>0.793085</td>\n",
       "      <td>0.000000</td>\n",
       "      <td>0.690346</td>\n",
       "      <td>0.000000</td>\n",
       "      <td>502.893893</td>\n",
       "      <td>10235.637780</td>\n",
       "      <td>1221.445737</td>\n",
       "      <td>3190.003651</td>\n",
       "      <td>...</td>\n",
       "      <td>0.053509</td>\n",
       "      <td>120.669814</td>\n",
       "      <td>0.955509</td>\n",
       "      <td>616.883023</td>\n",
       "      <td>200.144478</td>\n",
       "      <td>0.000000</td>\n",
       "      <td>20.391554</td>\n",
       "      <td>0.509713</td>\n",
       "      <td>216.851245</td>\n",
       "      <td>56.139906</td>\n",
       "    </tr>\n",
       "    <tr>\n",
       "      <th>1</th>\n",
       "      <td>683</td>\n",
       "      <td>01Feb2012</td>\n",
       "      <td>0.000000</td>\n",
       "      <td>0.000686</td>\n",
       "      <td>0.590133</td>\n",
       "      <td>0.000000</td>\n",
       "      <td>72.833160</td>\n",
       "      <td>88.793012</td>\n",
       "      <td>31.360328</td>\n",
       "      <td>2650.403762</td>\n",
       "      <td>...</td>\n",
       "      <td>112.074385</td>\n",
       "      <td>69.943189</td>\n",
       "      <td>2.704237</td>\n",
       "      <td>292.934714</td>\n",
       "      <td>138.241134</td>\n",
       "      <td>0.000000</td>\n",
       "      <td>15.316564</td>\n",
       "      <td>2.526962</td>\n",
       "      <td>39.451960</td>\n",
       "      <td>7.172635</td>\n",
       "    </tr>\n",
       "    <tr>\n",
       "      <th>2</th>\n",
       "      <td>683</td>\n",
       "      <td>01Mar2012</td>\n",
       "      <td>0.000000</td>\n",
       "      <td>0.000000</td>\n",
       "      <td>0.000000</td>\n",
       "      <td>0.672651</td>\n",
       "      <td>880.917406</td>\n",
       "      <td>553.998042</td>\n",
       "      <td>518.008231</td>\n",
       "      <td>2737.479632</td>\n",
       "      <td>...</td>\n",
       "      <td>0.998247</td>\n",
       "      <td>273.213135</td>\n",
       "      <td>0.000000</td>\n",
       "      <td>92.264811</td>\n",
       "      <td>100.972356</td>\n",
       "      <td>0.000000</td>\n",
       "      <td>12.774053</td>\n",
       "      <td>0.242973</td>\n",
       "      <td>35.226264</td>\n",
       "      <td>50.614383</td>\n",
       "    </tr>\n",
       "    <tr>\n",
       "      <th>3</th>\n",
       "      <td>683</td>\n",
       "      <td>01Apr2012</td>\n",
       "      <td>0.000000</td>\n",
       "      <td>0.000000</td>\n",
       "      <td>0.000000</td>\n",
       "      <td>0.022906</td>\n",
       "      <td>150.778812</td>\n",
       "      <td>11.951856</td>\n",
       "      <td>11.360498</td>\n",
       "      <td>3492.642102</td>\n",
       "      <td>...</td>\n",
       "      <td>182.047997</td>\n",
       "      <td>18.272077</td>\n",
       "      <td>-0.357520</td>\n",
       "      <td>5.272196</td>\n",
       "      <td>49.725924</td>\n",
       "      <td>0.000000</td>\n",
       "      <td>17.904427</td>\n",
       "      <td>29.437773</td>\n",
       "      <td>5.591309</td>\n",
       "      <td>0.000000</td>\n",
       "    </tr>\n",
       "    <tr>\n",
       "      <th>4</th>\n",
       "      <td>683</td>\n",
       "      <td>01May2012</td>\n",
       "      <td>0.000000</td>\n",
       "      <td>0.000000</td>\n",
       "      <td>0.000000</td>\n",
       "      <td>0.000000</td>\n",
       "      <td>5116.833341</td>\n",
       "      <td>114.048014</td>\n",
       "      <td>49.435797</td>\n",
       "      <td>2591.599732</td>\n",
       "      <td>...</td>\n",
       "      <td>15.836277</td>\n",
       "      <td>1629.479264</td>\n",
       "      <td>59.613338</td>\n",
       "      <td>0.060753</td>\n",
       "      <td>4.878556</td>\n",
       "      <td>0.000000</td>\n",
       "      <td>14.081303</td>\n",
       "      <td>0.125393</td>\n",
       "      <td>5.872891</td>\n",
       "      <td>0.000000</td>\n",
       "    </tr>\n",
       "    <tr>\n",
       "      <th>...</th>\n",
       "      <td>...</td>\n",
       "      <td>...</td>\n",
       "      <td>...</td>\n",
       "      <td>...</td>\n",
       "      <td>...</td>\n",
       "      <td>...</td>\n",
       "      <td>...</td>\n",
       "      <td>...</td>\n",
       "      <td>...</td>\n",
       "      <td>...</td>\n",
       "      <td>...</td>\n",
       "      <td>...</td>\n",
       "      <td>...</td>\n",
       "      <td>...</td>\n",
       "      <td>...</td>\n",
       "      <td>...</td>\n",
       "      <td>...</td>\n",
       "      <td>...</td>\n",
       "      <td>...</td>\n",
       "      <td>...</td>\n",
       "      <td>...</td>\n",
       "    </tr>\n",
       "    <tr>\n",
       "      <th>8432</th>\n",
       "      <td>99444</td>\n",
       "      <td>01Feb2018</td>\n",
       "      <td>0.000000</td>\n",
       "      <td>0.000000</td>\n",
       "      <td>0.000000</td>\n",
       "      <td>0.000000</td>\n",
       "      <td>60.744985</td>\n",
       "      <td>436.881447</td>\n",
       "      <td>319.466703</td>\n",
       "      <td>8466.054268</td>\n",
       "      <td>...</td>\n",
       "      <td>0.000000</td>\n",
       "      <td>1733.563294</td>\n",
       "      <td>-28.174332</td>\n",
       "      <td>1209.449129</td>\n",
       "      <td>632.966298</td>\n",
       "      <td>0.000000</td>\n",
       "      <td>110.422862</td>\n",
       "      <td>-3.137605</td>\n",
       "      <td>1168.589213</td>\n",
       "      <td>64.490601</td>\n",
       "    </tr>\n",
       "    <tr>\n",
       "      <th>8433</th>\n",
       "      <td>99444</td>\n",
       "      <td>01Mar2018</td>\n",
       "      <td>0.000000</td>\n",
       "      <td>0.000000</td>\n",
       "      <td>0.000000</td>\n",
       "      <td>0.000000</td>\n",
       "      <td>1659.203226</td>\n",
       "      <td>984.502872</td>\n",
       "      <td>583.706921</td>\n",
       "      <td>9052.754307</td>\n",
       "      <td>...</td>\n",
       "      <td>6.430861</td>\n",
       "      <td>1.393711</td>\n",
       "      <td>0.000000</td>\n",
       "      <td>735.371299</td>\n",
       "      <td>71.457377</td>\n",
       "      <td>0.131374</td>\n",
       "      <td>-67.789904</td>\n",
       "      <td>112.819870</td>\n",
       "      <td>541.409571</td>\n",
       "      <td>15.189098</td>\n",
       "    </tr>\n",
       "    <tr>\n",
       "      <th>8434</th>\n",
       "      <td>99444</td>\n",
       "      <td>01Apr2018</td>\n",
       "      <td>1.205455</td>\n",
       "      <td>0.000000</td>\n",
       "      <td>6.719704</td>\n",
       "      <td>0.000000</td>\n",
       "      <td>391.629990</td>\n",
       "      <td>835.051759</td>\n",
       "      <td>1054.700112</td>\n",
       "      <td>7938.102330</td>\n",
       "      <td>...</td>\n",
       "      <td>0.101345</td>\n",
       "      <td>56.857328</td>\n",
       "      <td>0.000000</td>\n",
       "      <td>210.508996</td>\n",
       "      <td>153.044792</td>\n",
       "      <td>0.433706</td>\n",
       "      <td>155.979550</td>\n",
       "      <td>1.532836</td>\n",
       "      <td>289.112965</td>\n",
       "      <td>1.863955</td>\n",
       "    </tr>\n",
       "    <tr>\n",
       "      <th>8435</th>\n",
       "      <td>99444</td>\n",
       "      <td>01May2018</td>\n",
       "      <td>0.000000</td>\n",
       "      <td>0.000000</td>\n",
       "      <td>NaN</td>\n",
       "      <td>0.000000</td>\n",
       "      <td>109.871651</td>\n",
       "      <td>3388.907606</td>\n",
       "      <td>1349.073196</td>\n",
       "      <td>9805.914396</td>\n",
       "      <td>...</td>\n",
       "      <td>0.304819</td>\n",
       "      <td>8.802166</td>\n",
       "      <td>0.000000</td>\n",
       "      <td>78.116811</td>\n",
       "      <td>17.687757</td>\n",
       "      <td>0.000000</td>\n",
       "      <td>-107.203368</td>\n",
       "      <td>8.136763</td>\n",
       "      <td>6.391709</td>\n",
       "      <td>6.154658</td>\n",
       "    </tr>\n",
       "    <tr>\n",
       "      <th>8436</th>\n",
       "      <td>99444</td>\n",
       "      <td>01Jun2018</td>\n",
       "      <td>0.000000</td>\n",
       "      <td>0.000000</td>\n",
       "      <td>0.000000</td>\n",
       "      <td>0.000000</td>\n",
       "      <td>284.728106</td>\n",
       "      <td>4030.602987</td>\n",
       "      <td>298.638925</td>\n",
       "      <td>8669.324567</td>\n",
       "      <td>...</td>\n",
       "      <td>6.940834</td>\n",
       "      <td>8.564888</td>\n",
       "      <td>0.019753</td>\n",
       "      <td>36.813263</td>\n",
       "      <td>423.107297</td>\n",
       "      <td>0.000000</td>\n",
       "      <td>61.813178</td>\n",
       "      <td>50.344201</td>\n",
       "      <td>225.139964</td>\n",
       "      <td>1.769967</td>\n",
       "    </tr>\n",
       "  </tbody>\n",
       "</table>\n",
       "<p>8437 rows × 98 columns</p>\n",
       "</div>"
      ],
      "text/plain": [
       "        key       date        x1        x2        x3        x4           x7  \\\n",
       "0       683  01Jan2012  0.793085  0.000000  0.690346  0.000000   502.893893   \n",
       "1       683  01Feb2012  0.000000  0.000686  0.590133  0.000000    72.833160   \n",
       "2       683  01Mar2012  0.000000  0.000000  0.000000  0.672651   880.917406   \n",
       "3       683  01Apr2012  0.000000  0.000000  0.000000  0.022906   150.778812   \n",
       "4       683  01May2012  0.000000  0.000000  0.000000  0.000000  5116.833341   \n",
       "...     ...        ...       ...       ...       ...       ...          ...   \n",
       "8432  99444  01Feb2018  0.000000  0.000000  0.000000  0.000000    60.744985   \n",
       "8433  99444  01Mar2018  0.000000  0.000000  0.000000  0.000000  1659.203226   \n",
       "8434  99444  01Apr2018  1.205455  0.000000  6.719704  0.000000   391.629990   \n",
       "8435  99444  01May2018  0.000000  0.000000       NaN  0.000000   109.871651   \n",
       "8436  99444  01Jun2018  0.000000  0.000000  0.000000  0.000000   284.728106   \n",
       "\n",
       "                x8           x9          x10  ...        x103         x104  \\\n",
       "0     10235.637780  1221.445737  3190.003651  ...    0.053509   120.669814   \n",
       "1        88.793012    31.360328  2650.403762  ...  112.074385    69.943189   \n",
       "2       553.998042   518.008231  2737.479632  ...    0.998247   273.213135   \n",
       "3        11.951856    11.360498  3492.642102  ...  182.047997    18.272077   \n",
       "4       114.048014    49.435797  2591.599732  ...   15.836277  1629.479264   \n",
       "...            ...          ...          ...  ...         ...          ...   \n",
       "8432    436.881447   319.466703  8466.054268  ...    0.000000  1733.563294   \n",
       "8433    984.502872   583.706921  9052.754307  ...    6.430861     1.393711   \n",
       "8434    835.051759  1054.700112  7938.102330  ...    0.101345    56.857328   \n",
       "8435   3388.907606  1349.073196  9805.914396  ...    0.304819     8.802166   \n",
       "8436   4030.602987   298.638925  8669.324567  ...    6.940834     8.564888   \n",
       "\n",
       "           x105         x106        x107      x108        x109        x110  \\\n",
       "0      0.955509   616.883023  200.144478  0.000000   20.391554    0.509713   \n",
       "1      2.704237   292.934714  138.241134  0.000000   15.316564    2.526962   \n",
       "2      0.000000    92.264811  100.972356  0.000000   12.774053    0.242973   \n",
       "3     -0.357520     5.272196   49.725924  0.000000   17.904427   29.437773   \n",
       "4     59.613338     0.060753    4.878556  0.000000   14.081303    0.125393   \n",
       "...         ...          ...         ...       ...         ...         ...   \n",
       "8432 -28.174332  1209.449129  632.966298  0.000000  110.422862   -3.137605   \n",
       "8433   0.000000   735.371299   71.457377  0.131374  -67.789904  112.819870   \n",
       "8434   0.000000   210.508996  153.044792  0.433706  155.979550    1.532836   \n",
       "8435   0.000000    78.116811   17.687757  0.000000 -107.203368    8.136763   \n",
       "8436   0.019753    36.813263  423.107297  0.000000   61.813178   50.344201   \n",
       "\n",
       "             x111       x112  \n",
       "0      216.851245  56.139906  \n",
       "1       39.451960   7.172635  \n",
       "2       35.226264  50.614383  \n",
       "3        5.591309   0.000000  \n",
       "4        5.872891   0.000000  \n",
       "...           ...        ...  \n",
       "8432  1168.589213  64.490601  \n",
       "8433   541.409571  15.189098  \n",
       "8434   289.112965   1.863955  \n",
       "8435     6.391709   6.154658  \n",
       "8436   225.139964   1.769967  \n",
       "\n",
       "[8437 rows x 98 columns]"
      ]
     },
     "execution_count": 18,
     "metadata": {},
     "output_type": "execute_result"
    }
   ],
   "source": [
    "X_train"
   ]
  },
  {
   "cell_type": "markdown",
   "metadata": {},
   "source": [
    "Dealing with missing data - using median value"
   ]
  },
  {
   "cell_type": "code",
   "execution_count": 19,
   "metadata": {},
   "outputs": [],
   "source": [
    "def fill_na(column):\n",
    "    X_train[column].fillna(X_train[column].median(), inplace=True)"
   ]
  },
  {
   "cell_type": "code",
   "execution_count": 20,
   "metadata": {},
   "outputs": [
    {
     "name": "stdout",
     "output_type": "stream",
     "text": [
      "x1 column - missing data percentage: 0.00 %\n",
      "x2 column - missing data percentage: 0.00 %\n",
      "x3 column - missing data percentage: 0.00 %\n",
      "x4 column - missing data percentage: 0.00 %\n",
      "x7 column - missing data percentage: 0.00 %\n",
      "x8 column - missing data percentage: 0.00 %\n",
      "x9 column - missing data percentage: 0.00 %\n",
      "x10 column - missing data percentage: 0.00 %\n",
      "x12 column - missing data percentage: 0.00 %\n",
      "x13 column - missing data percentage: 0.00 %\n",
      "x14 column - missing data percentage: 0.00 %\n",
      "x15 column - missing data percentage: 0.00 %\n",
      "x16 column - missing data percentage: 0.00 %\n",
      "x19 column - missing data percentage: 0.00 %\n",
      "x20 column - missing data percentage: 0.00 %\n",
      "x21 column - missing data percentage: 0.00 %\n",
      "x22 column - missing data percentage: 0.00 %\n",
      "x23 column - missing data percentage: 0.00 %\n",
      "x24 column - missing data percentage: 0.00 %\n",
      "x26 column - missing data percentage: 0.00 %\n",
      "x27 column - missing data percentage: 0.00 %\n",
      "x28 column - missing data percentage: 0.00 %\n",
      "x29 column - missing data percentage: 0.00 %\n",
      "x30 column - missing data percentage: 0.00 %\n",
      "x31 column - missing data percentage: 0.00 %\n",
      "x33 column - missing data percentage: 0.00 %\n",
      "x34 column - missing data percentage: 0.00 %\n",
      "x35 column - missing data percentage: 0.00 %\n",
      "x36 column - missing data percentage: 0.00 %\n",
      "x37 column - missing data percentage: 0.00 %\n",
      "x38 column - missing data percentage: 0.00 %\n",
      "x40 column - missing data percentage: 0.00 %\n",
      "x41 column - missing data percentage: 0.00 %\n",
      "x42 column - missing data percentage: 0.00 %\n",
      "x43 column - missing data percentage: 0.00 %\n",
      "x44 column - missing data percentage: 0.00 %\n",
      "x45 column - missing data percentage: 0.00 %\n",
      "x47 column - missing data percentage: 0.00 %\n",
      "x48 column - missing data percentage: 0.00 %\n",
      "x49 column - missing data percentage: 0.00 %\n",
      "x50 column - missing data percentage: 0.00 %\n",
      "x51 column - missing data percentage: 0.00 %\n",
      "x52 column - missing data percentage: 0.00 %\n",
      "x54 column - missing data percentage: 0.00 %\n",
      "x55 column - missing data percentage: 0.00 %\n",
      "x56 column - missing data percentage: 0.00 %\n",
      "x57 column - missing data percentage: 0.00 %\n",
      "x58 column - missing data percentage: 0.00 %\n",
      "x59 column - missing data percentage: 0.00 %\n",
      "x61 column - missing data percentage: 0.00 %\n",
      "x62 column - missing data percentage: 0.00 %\n",
      "x63 column - missing data percentage: 0.00 %\n",
      "x64 column - missing data percentage: 0.00 %\n",
      "x65 column - missing data percentage: 0.00 %\n",
      "x66 column - missing data percentage: 0.00 %\n",
      "x68 column - missing data percentage: 0.00 %\n",
      "x69 column - missing data percentage: 0.00 %\n",
      "x70 column - missing data percentage: 0.00 %\n",
      "x71 column - missing data percentage: 0.00 %\n",
      "x72 column - missing data percentage: 0.00 %\n",
      "x73 column - missing data percentage: 0.00 %\n",
      "x75 column - missing data percentage: 0.00 %\n",
      "x76 column - missing data percentage: 0.00 %\n",
      "x77 column - missing data percentage: 0.00 %\n",
      "x78 column - missing data percentage: 0.00 %\n",
      "x79 column - missing data percentage: 0.00 %\n",
      "x80 column - missing data percentage: 0.00 %\n",
      "x82 column - missing data percentage: 0.00 %\n",
      "x83 column - missing data percentage: 0.00 %\n",
      "x84 column - missing data percentage: 0.00 %\n",
      "x85 column - missing data percentage: 0.00 %\n",
      "x86 column - missing data percentage: 0.00 %\n",
      "x87 column - missing data percentage: 0.00 %\n",
      "x88 column - missing data percentage: 0.00 %\n",
      "x89 column - missing data percentage: 0.00 %\n",
      "x90 column - missing data percentage: 0.00 %\n",
      "x91 column - missing data percentage: 0.00 %\n",
      "x92 column - missing data percentage: 0.00 %\n",
      "x93 column - missing data percentage: 0.00 %\n",
      "x94 column - missing data percentage: 0.00 %\n",
      "x96 column - missing data percentage: 0.00 %\n",
      "x97 column - missing data percentage: 0.00 %\n",
      "x98 column - missing data percentage: 0.00 %\n",
      "x99 column - missing data percentage: 0.00 %\n",
      "x100 column - missing data percentage: 0.00 %\n",
      "x101 column - missing data percentage: 0.00 %\n",
      "x103 column - missing data percentage: 0.00 %\n",
      "x104 column - missing data percentage: 0.00 %\n",
      "x105 column - missing data percentage: 0.00 %\n",
      "x106 column - missing data percentage: 0.00 %\n",
      "x107 column - missing data percentage: 0.00 %\n",
      "x108 column - missing data percentage: 0.00 %\n",
      "x109 column - missing data percentage: 0.00 %\n",
      "x110 column - missing data percentage: 0.00 %\n",
      "x111 column - missing data percentage: 0.00 %\n",
      "x112 column - missing data percentage: 0.00 %\n"
     ]
    }
   ],
   "source": [
    "for column in X_train.iloc[:,2:].columns:\n",
    "    fill_na(column)\n",
    "    missing_data_percentage(column)"
   ]
  },
  {
   "cell_type": "markdown",
   "metadata": {},
   "source": [
    "Checking again if the attributes hold any missing values."
   ]
  },
  {
   "cell_type": "markdown",
   "metadata": {},
   "source": [
    "# Data Outliers\n",
    "****"
   ]
  },
  {
   "cell_type": "markdown",
   "metadata": {},
   "source": [
    "The interquartile range (IQR) is a measure of statistical dispersion and is calculated as the difference between the 75th and 25th percentiles.\n",
    "It is represented by the formula IQR = Q3 − Q1.\n",
    "The lines of code below calculate and print the interquartile range for each of the variables in the dataset"
   ]
  },
  {
   "cell_type": "code",
   "execution_count": 21,
   "metadata": {},
   "outputs": [
    {
     "name": "stdout",
     "output_type": "stream",
     "text": [
      "key     57404.000000\n",
      "x1          0.000000\n",
      "x2          0.000000\n",
      "x3          0.000000\n",
      "x4          0.000000\n",
      "            ...     \n",
      "x108        0.000000\n",
      "x109       38.167024\n",
      "x110       15.743874\n",
      "x111      190.101397\n",
      "x112        4.255356\n",
      "Length: 97, dtype: float64\n"
     ]
    }
   ],
   "source": [
    "columns = X_train.columns\n",
    "\n",
    "Q1 = X_train[columns].quantile(0.25)\n",
    "Q3 = X_train[columns].quantile(0.75)\n",
    "IQR = Q3 - Q1\n",
    "\n",
    "print(IQR)"
   ]
  },
  {
   "cell_type": "markdown",
   "metadata": {},
   "source": [
    "Removing the outliers and calculating the skewness value again:"
   ]
  },
  {
   "cell_type": "code",
   "execution_count": 22,
   "metadata": {},
   "outputs": [],
   "source": [
    "def transform_columns_flooring_capping(dataset, column):\n",
    "    print(\"Skewness of column {} BEFORE the flooring and capping: {:.2f}\".format(column, dataset[column].skew()))\n",
    "    \n",
    "    dataset[column] = np.where(dataset[column] < dataset[column].quantile(0.10), dataset[column].quantile(0.10), dataset[column])\n",
    "    dataset[column] = np.where(dataset[column] > dataset[column].quantile(0.90), dataset[column].quantile(0.90), dataset[column])\n",
    "    \n",
    "    print(\"Skewness of column {} AFTER the flooring and capping: {:.2f}\\n\".format(column, dataset[column].skew()))\n",
    "    return dataset[column]"
   ]
  },
  {
   "cell_type": "code",
   "execution_count": 23,
   "metadata": {},
   "outputs": [
    {
     "name": "stdout",
     "output_type": "stream",
     "text": [
      "Skewness of column x1 BEFORE the flooring and capping: 14.83\n",
      "Skewness of column x1 AFTER the flooring and capping: 2.07\n",
      "\n",
      "Skewness of column x2 BEFORE the flooring and capping: 9.26\n",
      "Skewness of column x2 AFTER the flooring and capping: 2.04\n",
      "\n",
      "Skewness of column x3 BEFORE the flooring and capping: 5.59\n",
      "Skewness of column x3 AFTER the flooring and capping: 2.07\n",
      "\n",
      "Skewness of column x4 BEFORE the flooring and capping: 7.93\n",
      "Skewness of column x4 AFTER the flooring and capping: 2.07\n",
      "\n",
      "Skewness of column x7 BEFORE the flooring and capping: 6.23\n",
      "Skewness of column x7 AFTER the flooring and capping: 1.81\n",
      "\n",
      "Skewness of column x8 BEFORE the flooring and capping: 6.04\n",
      "Skewness of column x8 AFTER the flooring and capping: 1.77\n",
      "\n",
      "Skewness of column x9 BEFORE the flooring and capping: 7.25\n",
      "Skewness of column x9 AFTER the flooring and capping: 1.74\n",
      "\n",
      "Skewness of column x10 BEFORE the flooring and capping: 4.23\n",
      "Skewness of column x10 AFTER the flooring and capping: 1.75\n",
      "\n",
      "Skewness of column x12 BEFORE the flooring and capping: 13.27\n",
      "Skewness of column x12 AFTER the flooring and capping: 1.70\n",
      "\n",
      "Skewness of column x13 BEFORE the flooring and capping: 5.22\n",
      "Skewness of column x13 AFTER the flooring and capping: 1.80\n",
      "\n",
      "Skewness of column x14 BEFORE the flooring and capping: 9.76\n",
      "Skewness of column x14 AFTER the flooring and capping: 1.84\n",
      "\n",
      "Skewness of column x15 BEFORE the flooring and capping: 5.83\n",
      "Skewness of column x15 AFTER the flooring and capping: 1.82\n",
      "\n",
      "Skewness of column x16 BEFORE the flooring and capping: 7.37\n",
      "Skewness of column x16 AFTER the flooring and capping: 1.74\n",
      "\n",
      "Skewness of column x19 BEFORE the flooring and capping: 16.98\n",
      "Skewness of column x19 AFTER the flooring and capping: 1.69\n",
      "\n",
      "Skewness of column x20 BEFORE the flooring and capping: 5.39\n",
      "Skewness of column x20 AFTER the flooring and capping: 1.78\n",
      "\n",
      "Skewness of column x21 BEFORE the flooring and capping: 7.61\n",
      "Skewness of column x21 AFTER the flooring and capping: 1.82\n",
      "\n",
      "Skewness of column x22 BEFORE the flooring and capping: 4.79\n",
      "Skewness of column x22 AFTER the flooring and capping: 1.81\n",
      "\n",
      "Skewness of column x23 BEFORE the flooring and capping: 7.75\n",
      "Skewness of column x23 AFTER the flooring and capping: 1.76\n",
      "\n",
      "Skewness of column x24 BEFORE the flooring and capping: 12.66\n",
      "Skewness of column x24 AFTER the flooring and capping: 2.04\n",
      "\n",
      "Skewness of column x26 BEFORE the flooring and capping: 14.29\n",
      "Skewness of column x26 AFTER the flooring and capping: 1.69\n",
      "\n",
      "Skewness of column x27 BEFORE the flooring and capping: 5.33\n",
      "Skewness of column x27 AFTER the flooring and capping: 1.83\n",
      "\n",
      "Skewness of column x28 BEFORE the flooring and capping: 15.56\n",
      "Skewness of column x28 AFTER the flooring and capping: 1.82\n",
      "\n",
      "Skewness of column x29 BEFORE the flooring and capping: 5.96\n",
      "Skewness of column x29 AFTER the flooring and capping: 1.80\n",
      "\n",
      "Skewness of column x30 BEFORE the flooring and capping: 7.58\n",
      "Skewness of column x30 AFTER the flooring and capping: 1.74\n",
      "\n",
      "Skewness of column x31 BEFORE the flooring and capping: 4.34\n",
      "Skewness of column x31 AFTER the flooring and capping: 2.08\n",
      "\n",
      "Skewness of column x33 BEFORE the flooring and capping: 16.91\n",
      "Skewness of column x33 AFTER the flooring and capping: 1.71\n",
      "\n",
      "Skewness of column x34 BEFORE the flooring and capping: 5.03\n",
      "Skewness of column x34 AFTER the flooring and capping: 1.77\n",
      "\n",
      "Skewness of column x35 BEFORE the flooring and capping: 7.78\n",
      "Skewness of column x35 AFTER the flooring and capping: 1.84\n",
      "\n",
      "Skewness of column x36 BEFORE the flooring and capping: 5.72\n",
      "Skewness of column x36 AFTER the flooring and capping: 1.80\n",
      "\n",
      "Skewness of column x37 BEFORE the flooring and capping: 7.11\n",
      "Skewness of column x37 AFTER the flooring and capping: 1.75\n",
      "\n",
      "Skewness of column x38 BEFORE the flooring and capping: 10.80\n",
      "Skewness of column x38 AFTER the flooring and capping: 2.07\n",
      "\n",
      "Skewness of column x40 BEFORE the flooring and capping: 12.93\n",
      "Skewness of column x40 AFTER the flooring and capping: 1.69\n",
      "\n",
      "Skewness of column x41 BEFORE the flooring and capping: 5.13\n",
      "Skewness of column x41 AFTER the flooring and capping: 1.82\n",
      "\n",
      "Skewness of column x42 BEFORE the flooring and capping: 18.22\n",
      "Skewness of column x42 AFTER the flooring and capping: 1.82\n",
      "\n",
      "Skewness of column x43 BEFORE the flooring and capping: 5.87\n",
      "Skewness of column x43 AFTER the flooring and capping: 1.79\n",
      "\n",
      "Skewness of column x44 BEFORE the flooring and capping: 7.21\n",
      "Skewness of column x44 AFTER the flooring and capping: 1.79\n",
      "\n",
      "Skewness of column x45 BEFORE the flooring and capping: 9.45\n",
      "Skewness of column x45 AFTER the flooring and capping: 1.97\n",
      "\n",
      "Skewness of column x47 BEFORE the flooring and capping: 16.27\n",
      "Skewness of column x47 AFTER the flooring and capping: 1.68\n",
      "\n",
      "Skewness of column x48 BEFORE the flooring and capping: 5.12\n",
      "Skewness of column x48 AFTER the flooring and capping: 1.80\n",
      "\n",
      "Skewness of column x49 BEFORE the flooring and capping: 9.35\n",
      "Skewness of column x49 AFTER the flooring and capping: 1.84\n",
      "\n",
      "Skewness of column x50 BEFORE the flooring and capping: 5.93\n",
      "Skewness of column x50 AFTER the flooring and capping: 1.79\n",
      "\n",
      "Skewness of column x51 BEFORE the flooring and capping: 7.47\n",
      "Skewness of column x51 AFTER the flooring and capping: 1.73\n",
      "\n",
      "Skewness of column x52 BEFORE the flooring and capping: 14.24\n",
      "Skewness of column x52 AFTER the flooring and capping: 2.08\n",
      "\n",
      "Skewness of column x54 BEFORE the flooring and capping: 15.51\n",
      "Skewness of column x54 AFTER the flooring and capping: 1.69\n",
      "\n",
      "Skewness of column x55 BEFORE the flooring and capping: 5.43\n",
      "Skewness of column x55 AFTER the flooring and capping: 1.81\n",
      "\n",
      "Skewness of column x56 BEFORE the flooring and capping: 6.29\n",
      "Skewness of column x56 AFTER the flooring and capping: 1.84\n",
      "\n",
      "Skewness of column x57 BEFORE the flooring and capping: 5.81\n",
      "Skewness of column x57 AFTER the flooring and capping: 1.78\n",
      "\n",
      "Skewness of column x58 BEFORE the flooring and capping: 7.11\n",
      "Skewness of column x58 AFTER the flooring and capping: 1.75\n",
      "\n",
      "Skewness of column x59 BEFORE the flooring and capping: 2.80\n",
      "Skewness of column x59 AFTER the flooring and capping: 2.08\n",
      "\n",
      "Skewness of column x61 BEFORE the flooring and capping: 15.94\n",
      "Skewness of column x61 AFTER the flooring and capping: 1.70\n",
      "\n",
      "Skewness of column x62 BEFORE the flooring and capping: 5.18\n",
      "Skewness of column x62 AFTER the flooring and capping: 1.78\n",
      "\n",
      "Skewness of column x63 BEFORE the flooring and capping: 13.22\n",
      "Skewness of column x63 AFTER the flooring and capping: 1.85\n",
      "\n",
      "Skewness of column x64 BEFORE the flooring and capping: 5.95\n",
      "Skewness of column x64 AFTER the flooring and capping: 1.78\n",
      "\n",
      "Skewness of column x65 BEFORE the flooring and capping: 8.67\n",
      "Skewness of column x65 AFTER the flooring and capping: 1.74\n",
      "\n",
      "Skewness of column x66 BEFORE the flooring and capping: 11.28\n",
      "Skewness of column x66 AFTER the flooring and capping: 2.06\n",
      "\n",
      "Skewness of column x68 BEFORE the flooring and capping: 14.74\n",
      "Skewness of column x68 AFTER the flooring and capping: 1.68\n",
      "\n",
      "Skewness of column x69 BEFORE the flooring and capping: 5.41\n",
      "Skewness of column x69 AFTER the flooring and capping: 1.79\n",
      "\n",
      "Skewness of column x70 BEFORE the flooring and capping: 8.66\n",
      "Skewness of column x70 AFTER the flooring and capping: 1.83\n",
      "\n",
      "Skewness of column x71 BEFORE the flooring and capping: 5.66\n",
      "Skewness of column x71 AFTER the flooring and capping: 1.78\n",
      "\n",
      "Skewness of column x72 BEFORE the flooring and capping: 7.79\n",
      "Skewness of column x72 AFTER the flooring and capping: 1.75\n",
      "\n",
      "Skewness of column x73 BEFORE the flooring and capping: 7.65\n",
      "Skewness of column x73 AFTER the flooring and capping: 2.07\n",
      "\n",
      "Skewness of column x75 BEFORE the flooring and capping: 15.93\n",
      "Skewness of column x75 AFTER the flooring and capping: 1.67\n",
      "\n",
      "Skewness of column x76 BEFORE the flooring and capping: 5.16\n",
      "Skewness of column x76 AFTER the flooring and capping: 1.78\n",
      "\n",
      "Skewness of column x77 BEFORE the flooring and capping: 8.35\n",
      "Skewness of column x77 AFTER the flooring and capping: 1.83\n",
      "\n",
      "Skewness of column x78 BEFORE the flooring and capping: 5.59\n",
      "Skewness of column x78 AFTER the flooring and capping: 1.80\n",
      "\n",
      "Skewness of column x79 BEFORE the flooring and capping: 7.41\n",
      "Skewness of column x79 AFTER the flooring and capping: 1.73\n",
      "\n",
      "Skewness of column x80 BEFORE the flooring and capping: 15.96\n",
      "Skewness of column x80 AFTER the flooring and capping: 2.07\n",
      "\n",
      "Skewness of column x82 BEFORE the flooring and capping: 11.91\n",
      "Skewness of column x82 AFTER the flooring and capping: 1.67\n",
      "\n",
      "Skewness of column x83 BEFORE the flooring and capping: 5.54\n",
      "Skewness of column x83 AFTER the flooring and capping: 1.78\n",
      "\n",
      "Skewness of column x84 BEFORE the flooring and capping: 11.16\n",
      "Skewness of column x84 AFTER the flooring and capping: 1.85\n",
      "\n",
      "Skewness of column x85 BEFORE the flooring and capping: 5.80\n",
      "Skewness of column x85 AFTER the flooring and capping: 1.79\n",
      "\n",
      "Skewness of column x86 BEFORE the flooring and capping: 8.10\n",
      "Skewness of column x86 AFTER the flooring and capping: 1.76\n",
      "\n",
      "Skewness of column x87 BEFORE the flooring and capping: 17.13\n",
      "Skewness of column x87 AFTER the flooring and capping: 2.09\n",
      "\n",
      "Skewness of column x88 BEFORE the flooring and capping: 3.98\n",
      "Skewness of column x88 AFTER the flooring and capping: 1.91\n",
      "\n",
      "Skewness of column x89 BEFORE the flooring and capping: 16.20\n",
      "Skewness of column x89 AFTER the flooring and capping: 1.70\n",
      "\n",
      "Skewness of column x90 BEFORE the flooring and capping: 5.26\n",
      "Skewness of column x90 AFTER the flooring and capping: 1.79\n",
      "\n",
      "Skewness of column x91 BEFORE the flooring and capping: 6.51\n",
      "Skewness of column x91 AFTER the flooring and capping: 1.81\n",
      "\n",
      "Skewness of column x92 BEFORE the flooring and capping: 5.45\n",
      "Skewness of column x92 AFTER the flooring and capping: 1.76\n",
      "\n",
      "Skewness of column x93 BEFORE the flooring and capping: 6.93\n",
      "Skewness of column x93 AFTER the flooring and capping: 1.76\n",
      "\n",
      "Skewness of column x94 BEFORE the flooring and capping: 14.29\n",
      "Skewness of column x94 AFTER the flooring and capping: 2.07\n",
      "\n",
      "Skewness of column x96 BEFORE the flooring and capping: 13.76\n",
      "Skewness of column x96 AFTER the flooring and capping: 1.69\n",
      "\n",
      "Skewness of column x97 BEFORE the flooring and capping: 5.02\n",
      "Skewness of column x97 AFTER the flooring and capping: 1.79\n",
      "\n",
      "Skewness of column x98 BEFORE the flooring and capping: 11.40\n",
      "Skewness of column x98 AFTER the flooring and capping: 1.80\n",
      "\n",
      "Skewness of column x99 BEFORE the flooring and capping: 5.88\n",
      "Skewness of column x99 AFTER the flooring and capping: 1.78\n",
      "\n",
      "Skewness of column x100 BEFORE the flooring and capping: 7.02\n",
      "Skewness of column x100 AFTER the flooring and capping: 1.78\n",
      "\n",
      "Skewness of column x101 BEFORE the flooring and capping: 5.72\n",
      "Skewness of column x101 AFTER the flooring and capping: 1.78\n",
      "\n",
      "Skewness of column x103 BEFORE the flooring and capping: 17.36\n",
      "Skewness of column x103 AFTER the flooring and capping: 1.67\n",
      "\n",
      "Skewness of column x104 BEFORE the flooring and capping: 5.80\n",
      "Skewness of column x104 AFTER the flooring and capping: 1.79\n",
      "\n",
      "Skewness of column x105 BEFORE the flooring and capping: 9.42\n",
      "Skewness of column x105 AFTER the flooring and capping: 1.81\n",
      "\n",
      "Skewness of column x106 BEFORE the flooring and capping: 5.38\n",
      "Skewness of column x106 AFTER the flooring and capping: 1.82\n",
      "\n",
      "Skewness of column x107 BEFORE the flooring and capping: 6.86\n",
      "Skewness of column x107 AFTER the flooring and capping: 1.74\n",
      "\n",
      "Skewness of column x108 BEFORE the flooring and capping: 10.57\n",
      "Skewness of column x108 AFTER the flooring and capping: 2.09\n",
      "\n",
      "Skewness of column x109 BEFORE the flooring and capping: 11.21\n",
      "Skewness of column x109 AFTER the flooring and capping: 1.60\n",
      "\n",
      "Skewness of column x110 BEFORE the flooring and capping: 13.86\n",
      "Skewness of column x110 AFTER the flooring and capping: 1.70\n",
      "\n",
      "Skewness of column x111 BEFORE the flooring and capping: 5.30\n",
      "Skewness of column x111 AFTER the flooring and capping: 1.79\n",
      "\n",
      "Skewness of column x112 BEFORE the flooring and capping: 16.13\n",
      "Skewness of column x112 AFTER the flooring and capping: 1.82\n",
      "\n"
     ]
    }
   ],
   "source": [
    "for column in X_train.iloc[:,2:].columns:\n",
    "    transform_columns_flooring_capping(X_train, column)"
   ]
  },
  {
   "cell_type": "markdown",
   "metadata": {},
   "source": [
    "It is visible that removing the outliers below the 10th quantile and above 90th quantile results in better skewness of every column."
   ]
  },
  {
   "cell_type": "markdown",
   "metadata": {},
   "source": [
    "# Data Transformations\n",
    "****"
   ]
  },
  {
   "cell_type": "markdown",
   "metadata": {},
   "source": [
    "*Space for improvement: creating data transformers and calling them instead of the transformations above"
   ]
  },
  {
   "cell_type": "markdown",
   "metadata": {},
   "source": [
    "Changing a date column from object into datetime type:"
   ]
  },
  {
   "cell_type": "code",
   "execution_count": 24,
   "metadata": {},
   "outputs": [],
   "source": [
    "X_train['date'] = pd.to_datetime(X_train['date'])"
   ]
  },
  {
   "cell_type": "markdown",
   "metadata": {},
   "source": [
    "Adding new month and year columns:"
   ]
  },
  {
   "cell_type": "code",
   "execution_count": 25,
   "metadata": {},
   "outputs": [],
   "source": [
    "X_train[\"month\"] = pd.DatetimeIndex(X_train[\"date\"]).month\n",
    "X_train[\"year\"] = pd.DatetimeIndex(X_train[\"date\"]).year\n",
    "\n",
    "y_train[\"month\"] = pd.DatetimeIndex(y_train[\"date\"]).month\n",
    "y_train[\"year\"] = pd.DatetimeIndex(y_train[\"date\"]).year"
   ]
  },
  {
   "cell_type": "markdown",
   "metadata": {},
   "source": [
    "Changing numerical columns from object into datetime type, as well as other columns' types from object to float/int:"
   ]
  },
  {
   "cell_type": "code",
   "execution_count": 26,
   "metadata": {},
   "outputs": [
    {
     "data": {
      "text/plain": [
       "key               int64\n",
       "date     datetime64[ns]\n",
       "x1              float64\n",
       "x2              float64\n",
       "x3              float64\n",
       "              ...      \n",
       "x110            float64\n",
       "x111            float64\n",
       "x112            float64\n",
       "month             int64\n",
       "year              int64\n",
       "Length: 100, dtype: object"
      ]
     },
     "execution_count": 26,
     "metadata": {},
     "output_type": "execute_result"
    }
   ],
   "source": [
    "X_train.infer_objects()\n",
    "X_train.dtypes"
   ]
  },
  {
   "cell_type": "code",
   "execution_count": 27,
   "metadata": {},
   "outputs": [
    {
     "data": {
      "text/plain": [
       "key        int64\n",
       "date      object\n",
       "y        float64\n",
       "month      int64\n",
       "year       int64\n",
       "dtype: object"
      ]
     },
     "execution_count": 27,
     "metadata": {},
     "output_type": "execute_result"
    }
   ],
   "source": [
    "y_train.infer_objects()\n",
    "y_train.dtypes"
   ]
  },
  {
   "cell_type": "markdown",
   "metadata": {},
   "source": [
    "# Attributes Correlation\n",
    "****"
   ]
  },
  {
   "cell_type": "markdown",
   "metadata": {},
   "source": [
    "Pearson’s correlation coefficient is the test statistics that measures the statistical relationship, or association, between two continuous variables.\n",
    "\n",
    "When there are two independent variables that are very highly correlated, you definitely should remove one of them because you run into the multicollinearity conundrum and your regression model's coefficients related to the two highly correlated variables will be unreliable."
   ]
  },
  {
   "cell_type": "code",
   "execution_count": 28,
   "metadata": {},
   "outputs": [
    {
     "data": {
      "text/html": [
       "<div>\n",
       "<style scoped>\n",
       "    .dataframe tbody tr th:only-of-type {\n",
       "        vertical-align: middle;\n",
       "    }\n",
       "\n",
       "    .dataframe tbody tr th {\n",
       "        vertical-align: top;\n",
       "    }\n",
       "\n",
       "    .dataframe thead th {\n",
       "        text-align: right;\n",
       "    }\n",
       "</style>\n",
       "<table border=\"1\" class=\"dataframe\">\n",
       "  <thead>\n",
       "    <tr style=\"text-align: right;\">\n",
       "      <th></th>\n",
       "      <th>key</th>\n",
       "      <th>x1</th>\n",
       "      <th>x2</th>\n",
       "      <th>x3</th>\n",
       "      <th>x4</th>\n",
       "      <th>x7</th>\n",
       "      <th>x8</th>\n",
       "      <th>x9</th>\n",
       "      <th>x10</th>\n",
       "      <th>x12</th>\n",
       "      <th>...</th>\n",
       "      <th>x105</th>\n",
       "      <th>x106</th>\n",
       "      <th>x107</th>\n",
       "      <th>x108</th>\n",
       "      <th>x109</th>\n",
       "      <th>x110</th>\n",
       "      <th>x111</th>\n",
       "      <th>x112</th>\n",
       "      <th>month</th>\n",
       "      <th>year</th>\n",
       "    </tr>\n",
       "  </thead>\n",
       "  <tbody>\n",
       "    <tr>\n",
       "      <th>key</th>\n",
       "      <td>1.000000</td>\n",
       "      <td>0.009020</td>\n",
       "      <td>0.010855</td>\n",
       "      <td>-0.000696</td>\n",
       "      <td>-0.003560</td>\n",
       "      <td>0.012958</td>\n",
       "      <td>-0.007995</td>\n",
       "      <td>-0.002685</td>\n",
       "      <td>-0.033451</td>\n",
       "      <td>-0.006153</td>\n",
       "      <td>...</td>\n",
       "      <td>-0.013070</td>\n",
       "      <td>-0.006636</td>\n",
       "      <td>-0.009420</td>\n",
       "      <td>0.019460</td>\n",
       "      <td>-0.000734</td>\n",
       "      <td>0.004044</td>\n",
       "      <td>-0.005983</td>\n",
       "      <td>-0.008894</td>\n",
       "      <td>-0.000657</td>\n",
       "      <td>-0.001066</td>\n",
       "    </tr>\n",
       "    <tr>\n",
       "      <th>x1</th>\n",
       "      <td>0.009020</td>\n",
       "      <td>1.000000</td>\n",
       "      <td>-0.001504</td>\n",
       "      <td>0.002758</td>\n",
       "      <td>-0.004958</td>\n",
       "      <td>-0.002514</td>\n",
       "      <td>0.168715</td>\n",
       "      <td>0.184093</td>\n",
       "      <td>0.002808</td>\n",
       "      <td>0.441816</td>\n",
       "      <td>...</td>\n",
       "      <td>0.017767</td>\n",
       "      <td>0.008475</td>\n",
       "      <td>-0.002285</td>\n",
       "      <td>0.000192</td>\n",
       "      <td>0.010430</td>\n",
       "      <td>0.004062</td>\n",
       "      <td>0.008134</td>\n",
       "      <td>-0.006453</td>\n",
       "      <td>0.022850</td>\n",
       "      <td>-0.002896</td>\n",
       "    </tr>\n",
       "    <tr>\n",
       "      <th>x2</th>\n",
       "      <td>0.010855</td>\n",
       "      <td>-0.001504</td>\n",
       "      <td>1.000000</td>\n",
       "      <td>0.008258</td>\n",
       "      <td>0.019026</td>\n",
       "      <td>0.006475</td>\n",
       "      <td>-0.008417</td>\n",
       "      <td>-0.002371</td>\n",
       "      <td>0.001949</td>\n",
       "      <td>-0.010871</td>\n",
       "      <td>...</td>\n",
       "      <td>0.101134</td>\n",
       "      <td>0.002421</td>\n",
       "      <td>-0.008118</td>\n",
       "      <td>-0.002993</td>\n",
       "      <td>0.009667</td>\n",
       "      <td>0.005726</td>\n",
       "      <td>-0.003948</td>\n",
       "      <td>0.003573</td>\n",
       "      <td>-0.000734</td>\n",
       "      <td>0.018214</td>\n",
       "    </tr>\n",
       "    <tr>\n",
       "      <th>x3</th>\n",
       "      <td>-0.000696</td>\n",
       "      <td>0.002758</td>\n",
       "      <td>0.008258</td>\n",
       "      <td>1.000000</td>\n",
       "      <td>0.012233</td>\n",
       "      <td>0.010476</td>\n",
       "      <td>-0.009032</td>\n",
       "      <td>-0.010588</td>\n",
       "      <td>0.008027</td>\n",
       "      <td>-0.005360</td>\n",
       "      <td>...</td>\n",
       "      <td>-0.016126</td>\n",
       "      <td>-0.008118</td>\n",
       "      <td>0.009803</td>\n",
       "      <td>0.010984</td>\n",
       "      <td>0.012663</td>\n",
       "      <td>0.010429</td>\n",
       "      <td>0.001106</td>\n",
       "      <td>-0.004909</td>\n",
       "      <td>0.004193</td>\n",
       "      <td>-0.000368</td>\n",
       "    </tr>\n",
       "    <tr>\n",
       "      <th>x4</th>\n",
       "      <td>-0.003560</td>\n",
       "      <td>-0.004958</td>\n",
       "      <td>0.019026</td>\n",
       "      <td>0.012233</td>\n",
       "      <td>1.000000</td>\n",
       "      <td>0.010267</td>\n",
       "      <td>-0.023509</td>\n",
       "      <td>-0.020737</td>\n",
       "      <td>-0.003113</td>\n",
       "      <td>-0.006516</td>\n",
       "      <td>...</td>\n",
       "      <td>0.001690</td>\n",
       "      <td>-0.006962</td>\n",
       "      <td>-0.005505</td>\n",
       "      <td>-0.000878</td>\n",
       "      <td>-0.010438</td>\n",
       "      <td>-0.008539</td>\n",
       "      <td>0.001754</td>\n",
       "      <td>-0.008606</td>\n",
       "      <td>0.001023</td>\n",
       "      <td>0.011572</td>\n",
       "    </tr>\n",
       "    <tr>\n",
       "      <th>...</th>\n",
       "      <td>...</td>\n",
       "      <td>...</td>\n",
       "      <td>...</td>\n",
       "      <td>...</td>\n",
       "      <td>...</td>\n",
       "      <td>...</td>\n",
       "      <td>...</td>\n",
       "      <td>...</td>\n",
       "      <td>...</td>\n",
       "      <td>...</td>\n",
       "      <td>...</td>\n",
       "      <td>...</td>\n",
       "      <td>...</td>\n",
       "      <td>...</td>\n",
       "      <td>...</td>\n",
       "      <td>...</td>\n",
       "      <td>...</td>\n",
       "      <td>...</td>\n",
       "      <td>...</td>\n",
       "      <td>...</td>\n",
       "      <td>...</td>\n",
       "    </tr>\n",
       "    <tr>\n",
       "      <th>x110</th>\n",
       "      <td>0.004044</td>\n",
       "      <td>0.004062</td>\n",
       "      <td>0.005726</td>\n",
       "      <td>0.010429</td>\n",
       "      <td>-0.008539</td>\n",
       "      <td>0.021358</td>\n",
       "      <td>0.006825</td>\n",
       "      <td>0.009173</td>\n",
       "      <td>0.010593</td>\n",
       "      <td>-0.002485</td>\n",
       "      <td>...</td>\n",
       "      <td>-0.015692</td>\n",
       "      <td>0.386250</td>\n",
       "      <td>0.424457</td>\n",
       "      <td>0.421616</td>\n",
       "      <td>0.007151</td>\n",
       "      <td>1.000000</td>\n",
       "      <td>0.363990</td>\n",
       "      <td>0.293007</td>\n",
       "      <td>-0.002754</td>\n",
       "      <td>-0.007135</td>\n",
       "    </tr>\n",
       "    <tr>\n",
       "      <th>x111</th>\n",
       "      <td>-0.005983</td>\n",
       "      <td>0.008134</td>\n",
       "      <td>-0.003948</td>\n",
       "      <td>0.001106</td>\n",
       "      <td>0.001754</td>\n",
       "      <td>0.009555</td>\n",
       "      <td>-0.003607</td>\n",
       "      <td>0.007194</td>\n",
       "      <td>0.009450</td>\n",
       "      <td>-0.010532</td>\n",
       "      <td>...</td>\n",
       "      <td>-0.001358</td>\n",
       "      <td>0.806815</td>\n",
       "      <td>0.800378</td>\n",
       "      <td>0.149363</td>\n",
       "      <td>-0.002074</td>\n",
       "      <td>0.363990</td>\n",
       "      <td>1.000000</td>\n",
       "      <td>0.651730</td>\n",
       "      <td>-0.001209</td>\n",
       "      <td>-0.000560</td>\n",
       "    </tr>\n",
       "    <tr>\n",
       "      <th>x112</th>\n",
       "      <td>-0.008894</td>\n",
       "      <td>-0.006453</td>\n",
       "      <td>0.003573</td>\n",
       "      <td>-0.004909</td>\n",
       "      <td>-0.008606</td>\n",
       "      <td>0.008580</td>\n",
       "      <td>0.009550</td>\n",
       "      <td>0.017658</td>\n",
       "      <td>0.012812</td>\n",
       "      <td>0.000110</td>\n",
       "      <td>...</td>\n",
       "      <td>-0.000453</td>\n",
       "      <td>0.658148</td>\n",
       "      <td>0.643110</td>\n",
       "      <td>0.105122</td>\n",
       "      <td>-0.001024</td>\n",
       "      <td>0.293007</td>\n",
       "      <td>0.651730</td>\n",
       "      <td>1.000000</td>\n",
       "      <td>-0.000677</td>\n",
       "      <td>-0.002726</td>\n",
       "    </tr>\n",
       "    <tr>\n",
       "      <th>month</th>\n",
       "      <td>-0.000657</td>\n",
       "      <td>0.022850</td>\n",
       "      <td>-0.000734</td>\n",
       "      <td>0.004193</td>\n",
       "      <td>0.001023</td>\n",
       "      <td>0.005103</td>\n",
       "      <td>0.001335</td>\n",
       "      <td>0.000242</td>\n",
       "      <td>-0.005554</td>\n",
       "      <td>0.024554</td>\n",
       "      <td>...</td>\n",
       "      <td>0.006657</td>\n",
       "      <td>0.000798</td>\n",
       "      <td>-0.004181</td>\n",
       "      <td>-0.017083</td>\n",
       "      <td>-0.010068</td>\n",
       "      <td>-0.002754</td>\n",
       "      <td>-0.001209</td>\n",
       "      <td>-0.000677</td>\n",
       "      <td>1.000000</td>\n",
       "      <td>-0.122319</td>\n",
       "    </tr>\n",
       "    <tr>\n",
       "      <th>year</th>\n",
       "      <td>-0.001066</td>\n",
       "      <td>-0.002896</td>\n",
       "      <td>0.018214</td>\n",
       "      <td>-0.000368</td>\n",
       "      <td>0.011572</td>\n",
       "      <td>0.005921</td>\n",
       "      <td>-0.007053</td>\n",
       "      <td>-0.007616</td>\n",
       "      <td>0.009005</td>\n",
       "      <td>-0.004031</td>\n",
       "      <td>...</td>\n",
       "      <td>-0.029329</td>\n",
       "      <td>0.001751</td>\n",
       "      <td>0.001595</td>\n",
       "      <td>0.013115</td>\n",
       "      <td>0.067350</td>\n",
       "      <td>-0.007135</td>\n",
       "      <td>-0.000560</td>\n",
       "      <td>-0.002726</td>\n",
       "      <td>-0.122319</td>\n",
       "      <td>1.000000</td>\n",
       "    </tr>\n",
       "  </tbody>\n",
       "</table>\n",
       "<p>99 rows × 99 columns</p>\n",
       "</div>"
      ],
      "text/plain": [
       "            key        x1        x2        x3        x4        x7        x8  \\\n",
       "key    1.000000  0.009020  0.010855 -0.000696 -0.003560  0.012958 -0.007995   \n",
       "x1     0.009020  1.000000 -0.001504  0.002758 -0.004958 -0.002514  0.168715   \n",
       "x2     0.010855 -0.001504  1.000000  0.008258  0.019026  0.006475 -0.008417   \n",
       "x3    -0.000696  0.002758  0.008258  1.000000  0.012233  0.010476 -0.009032   \n",
       "x4    -0.003560 -0.004958  0.019026  0.012233  1.000000  0.010267 -0.023509   \n",
       "...         ...       ...       ...       ...       ...       ...       ...   \n",
       "x110   0.004044  0.004062  0.005726  0.010429 -0.008539  0.021358  0.006825   \n",
       "x111  -0.005983  0.008134 -0.003948  0.001106  0.001754  0.009555 -0.003607   \n",
       "x112  -0.008894 -0.006453  0.003573 -0.004909 -0.008606  0.008580  0.009550   \n",
       "month -0.000657  0.022850 -0.000734  0.004193  0.001023  0.005103  0.001335   \n",
       "year  -0.001066 -0.002896  0.018214 -0.000368  0.011572  0.005921 -0.007053   \n",
       "\n",
       "             x9       x10       x12  ...      x105      x106      x107  \\\n",
       "key   -0.002685 -0.033451 -0.006153  ... -0.013070 -0.006636 -0.009420   \n",
       "x1     0.184093  0.002808  0.441816  ...  0.017767  0.008475 -0.002285   \n",
       "x2    -0.002371  0.001949 -0.010871  ...  0.101134  0.002421 -0.008118   \n",
       "x3    -0.010588  0.008027 -0.005360  ... -0.016126 -0.008118  0.009803   \n",
       "x4    -0.020737 -0.003113 -0.006516  ...  0.001690 -0.006962 -0.005505   \n",
       "...         ...       ...       ...  ...       ...       ...       ...   \n",
       "x110   0.009173  0.010593 -0.002485  ... -0.015692  0.386250  0.424457   \n",
       "x111   0.007194  0.009450 -0.010532  ... -0.001358  0.806815  0.800378   \n",
       "x112   0.017658  0.012812  0.000110  ... -0.000453  0.658148  0.643110   \n",
       "month  0.000242 -0.005554  0.024554  ...  0.006657  0.000798 -0.004181   \n",
       "year  -0.007616  0.009005 -0.004031  ... -0.029329  0.001751  0.001595   \n",
       "\n",
       "           x108      x109      x110      x111      x112     month      year  \n",
       "key    0.019460 -0.000734  0.004044 -0.005983 -0.008894 -0.000657 -0.001066  \n",
       "x1     0.000192  0.010430  0.004062  0.008134 -0.006453  0.022850 -0.002896  \n",
       "x2    -0.002993  0.009667  0.005726 -0.003948  0.003573 -0.000734  0.018214  \n",
       "x3     0.010984  0.012663  0.010429  0.001106 -0.004909  0.004193 -0.000368  \n",
       "x4    -0.000878 -0.010438 -0.008539  0.001754 -0.008606  0.001023  0.011572  \n",
       "...         ...       ...       ...       ...       ...       ...       ...  \n",
       "x110   0.421616  0.007151  1.000000  0.363990  0.293007 -0.002754 -0.007135  \n",
       "x111   0.149363 -0.002074  0.363990  1.000000  0.651730 -0.001209 -0.000560  \n",
       "x112   0.105122 -0.001024  0.293007  0.651730  1.000000 -0.000677 -0.002726  \n",
       "month -0.017083 -0.010068 -0.002754 -0.001209 -0.000677  1.000000 -0.122319  \n",
       "year   0.013115  0.067350 -0.007135 -0.000560 -0.002726 -0.122319  1.000000  \n",
       "\n",
       "[99 rows x 99 columns]"
      ]
     },
     "execution_count": 28,
     "metadata": {},
     "output_type": "execute_result"
    }
   ],
   "source": [
    "corr = X_train.corr()\n",
    "corr"
   ]
  },
  {
   "cell_type": "markdown",
   "metadata": {},
   "source": [
    "Here we are taking only the upper triangle of the correlation matrix to remove only one highly correlated attribute (and to look only positive correlation (Pearson's coefficient ranges from -1 to 1))."
   ]
  },
  {
   "cell_type": "markdown",
   "metadata": {},
   "source": [
    "Generally, if the correlation between a pair of variables is greater than 0.5-0.6, we should seriously consider dropping one of those variables.\n",
    "We are selecting the columns which are having absolute correlation greater than 0.8 and making a list of those columns named 'to_drop'."
   ]
  },
  {
   "cell_type": "markdown",
   "metadata": {},
   "source": [
    "pearson's r = correlation coefficient = r:\n",
    "\n",
    "0.00-0.19: very weak\n",
    "0.20-0.39: weak\n",
    "0.40-0.59: moderate \n",
    "0.60-0.79: strong\n",
    "0.80-1.00: very strong"
   ]
  },
  {
   "cell_type": "code",
   "execution_count": 29,
   "metadata": {},
   "outputs": [
    {
     "name": "stderr",
     "output_type": "stream",
     "text": [
      "<ipython-input-29-5563e36824c2>:1: DeprecationWarning: `np.bool` is a deprecated alias for the builtin `bool`. To silence this warning, use `bool` by itself. Doing this will not modify any behavior and is safe. If you specifically wanted the numpy scalar type, use `np.bool_` here.\n",
      "Deprecated in NumPy 1.20; for more details and guidance: https://numpy.org/devdocs/release/1.20.0-notes.html#deprecations\n",
      "  upper_tri = corr.where(np.triu(np.ones(corr.shape),k=1).astype(np.bool))\n"
     ]
    }
   ],
   "source": [
    "upper_tri = corr.where(np.triu(np.ones(corr.shape),k=1).astype(np.bool))"
   ]
  },
  {
   "cell_type": "code",
   "execution_count": 30,
   "metadata": {},
   "outputs": [
    {
     "name": "stdout",
     "output_type": "stream",
     "text": [
      "['x9', 'x13', 'x16', 'x20', 'x23', 'x27', 'x30', 'x34', 'x37', 'x41', 'x44', 'x48', 'x55', 'x62', 'x65', 'x69', 'x72', 'x79', 'x83', 'x86', 'x88', 'x90', 'x93', 'x97', 'x100', 'x101', 'x104', 'x107', 'x111']\n"
     ]
    }
   ],
   "source": [
    "to_drop = [column for column in upper_tri.columns if any(upper_tri[column] > 0.8)]\n",
    "print(to_drop)"
   ]
  },
  {
   "cell_type": "markdown",
   "metadata": {},
   "source": [
    "Using Pearson's Correlation Coefficient, there is a couple of  variables that are highly correlated (𝜌 > 0.75)"
   ]
  },
  {
   "cell_type": "code",
   "execution_count": 31,
   "metadata": {},
   "outputs": [
    {
     "data": {
      "text/plain": [
       "0.9653448406738077"
      ]
     },
     "execution_count": 31,
     "metadata": {},
     "output_type": "execute_result"
    }
   ],
   "source": [
    "corr.loc[\"x88\", \"x101\"]"
   ]
  },
  {
   "cell_type": "code",
   "execution_count": 32,
   "metadata": {},
   "outputs": [],
   "source": [
    "X_train = X_train.drop(to_drop, axis = 1)"
   ]
  },
  {
   "cell_type": "code",
   "execution_count": 33,
   "metadata": {},
   "outputs": [
    {
     "data": {
      "text/plain": [
       "71"
      ]
     },
     "execution_count": 33,
     "metadata": {},
     "output_type": "execute_result"
    }
   ],
   "source": [
    "len(X_train.columns)"
   ]
  },
  {
   "cell_type": "markdown",
   "metadata": {},
   "source": [
    "## Explorative Data Analysis\n",
    "****"
   ]
  },
  {
   "cell_type": "markdown",
   "metadata": {},
   "source": [
    "Joining the datasets to visualize the sales for products and for other information in the X_train dataset):"
   ]
  },
  {
   "cell_type": "code",
   "execution_count": 34,
   "metadata": {},
   "outputs": [],
   "source": [
    "dataset = X_train.append(y_train)\n",
    "dataset = pd.merge(X_train, y_train, how = 'left', left_on = [\"key\", \"month\", \"year\"], right_on = [\"key\", \"month\", \"year\"])"
   ]
  },
  {
   "cell_type": "markdown",
   "metadata": {},
   "source": [
    "Look into the scaled data:"
   ]
  },
  {
   "cell_type": "markdown",
   "metadata": {},
   "source": [
    "Grouping data for EDA:"
   ]
  },
  {
   "cell_type": "code",
   "execution_count": 35,
   "metadata": {},
   "outputs": [],
   "source": [
    "total_sales_monthly_mean = dataset.groupby([\"month\"], as_index = False)[\"y\"].mean()\n",
    "total_sales_monthly_sum = dataset.groupby([\"month\"], as_index = False)[\"y\"].sum()\n",
    "\n",
    "total_sales_yearly_mean = dataset.groupby([\"year\"], as_index = False)[\"y\"].mean()\n",
    "total_sales_yearly_sum = dataset.groupby([\"year\"], as_index = False)[\"y\"].sum()\n",
    "\n",
    "total_sales_daily_mean = dataset.groupby([\"date_x\"], as_index = False)[\"y\"].mean()\n",
    "total_sales_daily_sum = dataset.groupby([\"date_x\"], as_index = False)[\"y\"].sum()\n",
    "\n",
    "group_product_sales_mean = dataset.groupby([\"key\"], as_index=False)[\"y\"].mean()\n",
    "group_product_sales_sum = dataset.groupby([\"key\"], as_index=False)[\"y\"].sum()"
   ]
  },
  {
   "cell_type": "markdown",
   "metadata": {},
   "source": [
    "## Monthly Total Sales - Showing Seasonality\n",
    "****"
   ]
  },
  {
   "cell_type": "code",
   "execution_count": 36,
   "metadata": {},
   "outputs": [
    {
     "data": {
      "text/plain": [
       "'month'"
      ]
     },
     "execution_count": 36,
     "metadata": {},
     "output_type": "execute_result"
    }
   ],
   "source": [
    "total_sales_monthly_mean.columns[0]"
   ]
  },
  {
   "cell_type": "code",
   "execution_count": 37,
   "metadata": {},
   "outputs": [],
   "source": [
    "def plot_total_sales(measure):\n",
    "    measure.plot(x = measure.columns[0], \n",
    "                 y = \"y\", \n",
    "                 figsize = (6, 4), \n",
    "                 title = \"Sales - {}ly\".format(measure.columns[0]), \n",
    "                 xlabel = measure.columns[0], \n",
    "                 ylabel = \"Sales\")"
   ]
  },
  {
   "cell_type": "code",
   "execution_count": 38,
   "metadata": {},
   "outputs": [
    {
     "data": {
      "image/png": "[encoded data removed]",
      "text/plain": [
       "<Figure size 432x288 with 1 Axes>"
      ]
     },
     "metadata": {
      "needs_background": "light"
     },
     "output_type": "display_data"
    }
   ],
   "source": [
    "plot_total_sales(total_sales_monthly_mean)"
   ]
  },
  {
   "cell_type": "code",
   "execution_count": 39,
   "metadata": {},
   "outputs": [
    {
     "data": {
      "image/png": "[encoded data removed]",
      "text/plain": [
       "<Figure size 432x288 with 1 Axes>"
      ]
     },
     "metadata": {
      "needs_background": "light"
     },
     "output_type": "display_data"
    }
   ],
   "source": [
    "plot_total_sales(total_sales_monthly_sum)"
   ]
  },
  {
   "cell_type": "markdown",
   "metadata": {},
   "source": [
    "There is an obvious \"seasonality\" (Eg: peak sales around a time of year) - it is visible that the cummulative total sales of the company peak in May and June, then drop in winter months"
   ]
  },
  {
   "cell_type": "markdown",
   "metadata": {},
   "source": [
    "## Yearly Total Sales - Showing Trends\n",
    "****"
   ]
  },
  {
   "cell_type": "code",
   "execution_count": 40,
   "metadata": {},
   "outputs": [
    {
     "data": {
      "image/png": "[encoded data removed]",
      "text/plain": [
       "<Figure size 432x288 with 1 Axes>"
      ]
     },
     "metadata": {
      "needs_background": "light"
     },
     "output_type": "display_data"
    }
   ],
   "source": [
    "plot_total_sales(total_sales_yearly_mean)"
   ]
  },
  {
   "cell_type": "markdown",
   "metadata": {},
   "source": [
    "*As we can see we have a trending increase of item sales count (mean) since 2012 to 2018"
   ]
  },
  {
   "cell_type": "code",
   "execution_count": 41,
   "metadata": {},
   "outputs": [
    {
     "data": {
      "image/png": "[encoded data removed]",
      "text/plain": [
       "<Figure size 432x288 with 1 Axes>"
      ]
     },
     "metadata": {
      "needs_background": "light"
     },
     "output_type": "display_data"
    }
   ],
   "source": [
    "plot_total_sales(total_sales_yearly_sum)"
   ]
  },
  {
   "cell_type": "markdown",
   "metadata": {},
   "source": [
    "There is a visible drop in sales since 2017"
   ]
  },
  {
   "cell_type": "markdown",
   "metadata": {},
   "source": [
    "## Sales by Date\n",
    "****"
   ]
  },
  {
   "cell_type": "code",
   "execution_count": 42,
   "metadata": {},
   "outputs": [
    {
     "data": {
      "text/html": [
       "<div>\n",
       "<style scoped>\n",
       "    .dataframe tbody tr th:only-of-type {\n",
       "        vertical-align: middle;\n",
       "    }\n",
       "\n",
       "    .dataframe tbody tr th {\n",
       "        vertical-align: top;\n",
       "    }\n",
       "\n",
       "    .dataframe thead th {\n",
       "        text-align: right;\n",
       "    }\n",
       "</style>\n",
       "<table border=\"1\" class=\"dataframe\">\n",
       "  <thead>\n",
       "    <tr style=\"text-align: right;\">\n",
       "      <th></th>\n",
       "      <th>date_x</th>\n",
       "      <th>y</th>\n",
       "    </tr>\n",
       "  </thead>\n",
       "  <tbody>\n",
       "    <tr>\n",
       "      <th>0</th>\n",
       "      <td>2012-01-01</td>\n",
       "      <td>1245.364114</td>\n",
       "    </tr>\n",
       "    <tr>\n",
       "      <th>1</th>\n",
       "      <td>2012-02-01</td>\n",
       "      <td>1559.680929</td>\n",
       "    </tr>\n",
       "    <tr>\n",
       "      <th>2</th>\n",
       "      <td>2012-03-01</td>\n",
       "      <td>3085.166393</td>\n",
       "    </tr>\n",
       "    <tr>\n",
       "      <th>3</th>\n",
       "      <td>2012-04-01</td>\n",
       "      <td>2703.845190</td>\n",
       "    </tr>\n",
       "    <tr>\n",
       "      <th>4</th>\n",
       "      <td>2012-05-01</td>\n",
       "      <td>3489.027823</td>\n",
       "    </tr>\n",
       "    <tr>\n",
       "      <th>...</th>\n",
       "      <td>...</td>\n",
       "      <td>...</td>\n",
       "    </tr>\n",
       "    <tr>\n",
       "      <th>73</th>\n",
       "      <td>2018-02-01</td>\n",
       "      <td>2544.695370</td>\n",
       "    </tr>\n",
       "    <tr>\n",
       "      <th>74</th>\n",
       "      <td>2018-03-01</td>\n",
       "      <td>4108.612587</td>\n",
       "    </tr>\n",
       "    <tr>\n",
       "      <th>75</th>\n",
       "      <td>2018-04-01</td>\n",
       "      <td>4605.923126</td>\n",
       "    </tr>\n",
       "    <tr>\n",
       "      <th>76</th>\n",
       "      <td>2018-05-01</td>\n",
       "      <td>5637.412732</td>\n",
       "    </tr>\n",
       "    <tr>\n",
       "      <th>77</th>\n",
       "      <td>2018-06-01</td>\n",
       "      <td>6262.250929</td>\n",
       "    </tr>\n",
       "  </tbody>\n",
       "</table>\n",
       "<p>78 rows × 2 columns</p>\n",
       "</div>"
      ],
      "text/plain": [
       "       date_x            y\n",
       "0  2012-01-01  1245.364114\n",
       "1  2012-02-01  1559.680929\n",
       "2  2012-03-01  3085.166393\n",
       "3  2012-04-01  2703.845190\n",
       "4  2012-05-01  3489.027823\n",
       "..        ...          ...\n",
       "73 2018-02-01  2544.695370\n",
       "74 2018-03-01  4108.612587\n",
       "75 2018-04-01  4605.923126\n",
       "76 2018-05-01  5637.412732\n",
       "77 2018-06-01  6262.250929\n",
       "\n",
       "[78 rows x 2 columns]"
      ]
     },
     "execution_count": 42,
     "metadata": {},
     "output_type": "execute_result"
    }
   ],
   "source": [
    "total_sales_daily_mean"
   ]
  },
  {
   "cell_type": "code",
   "execution_count": 43,
   "metadata": {},
   "outputs": [
    {
     "data": {
      "image/png": "[encoded data removed]",
      "text/plain": [
       "<Figure size 432x288 with 1 Axes>"
      ]
     },
     "metadata": {
      "needs_background": "light"
     },
     "output_type": "display_data"
    }
   ],
   "source": [
    "plot_total_sales(total_sales_daily_mean)"
   ]
  },
  {
   "cell_type": "code",
   "execution_count": 44,
   "metadata": {},
   "outputs": [
    {
     "data": {
      "image/png": "[encoded data removed]",
      "text/plain": [
       "<Figure size 432x288 with 1 Axes>"
      ]
     },
     "metadata": {
      "needs_background": "light"
     },
     "output_type": "display_data"
    }
   ],
   "source": [
    "plot_total_sales(total_sales_daily_sum)"
   ]
  },
  {
   "cell_type": "markdown",
   "metadata": {},
   "source": [
    "Growth in sales (mean sales and sum of sales) is clearly visible. Also, sales tend to peak in the summer months."
   ]
  },
  {
   "cell_type": "markdown",
   "metadata": {},
   "source": [
    "## Sales by Product\n",
    "****"
   ]
  },
  {
   "cell_type": "code",
   "execution_count": 45,
   "metadata": {},
   "outputs": [],
   "source": [
    "def plot_sales_by_product(dataset):\n",
    "    axes = plt.subplots(1, 1, figsize=(45, 15), sharex=True)\n",
    "    ax = sn.barplot(x=\"key\", y=\"y\", data=dataset, palette=\"rocket\").set_title(\"Yearly mean\")\n",
    "    plt.xticks(rotation = 90)\n",
    "    plt.show()"
   ]
  },
  {
   "cell_type": "code",
   "execution_count": 46,
   "metadata": {},
   "outputs": [
    {
     "data": {
      "image/png": "[encoded data removed]",
      "text/plain": [
       "<Figure size 3240x1080 with 1 Axes>"
      ]
     },
     "metadata": {
      "needs_background": "light"
     },
     "output_type": "display_data"
    }
   ],
   "source": [
    "plot_sales_by_product(group_product_sales_mean)"
   ]
  },
  {
   "cell_type": "code",
   "execution_count": 47,
   "metadata": {},
   "outputs": [
    {
     "data": {
      "image/png": "[encoded data removed]",
      "text/plain": [
       "<Figure size 3240x1080 with 1 Axes>"
      ]
     },
     "metadata": {
      "needs_background": "light"
     },
     "output_type": "display_data"
    }
   ],
   "source": [
    "plot_sales_by_product(group_product_sales_sum)"
   ]
  },
  {
   "cell_type": "markdown",
   "metadata": {},
   "source": [
    "It's visible that some of the products have much higher sales than the other. Let's see what are the top 10 products by mean and summed yearly sales:"
   ]
  },
  {
   "cell_type": "code",
   "execution_count": 48,
   "metadata": {},
   "outputs": [
    {
     "data": {
      "text/html": [
       "<div>\n",
       "<style scoped>\n",
       "    .dataframe tbody tr th:only-of-type {\n",
       "        vertical-align: middle;\n",
       "    }\n",
       "\n",
       "    .dataframe tbody tr th {\n",
       "        vertical-align: top;\n",
       "    }\n",
       "\n",
       "    .dataframe thead th {\n",
       "        text-align: right;\n",
       "    }\n",
       "</style>\n",
       "<table border=\"1\" class=\"dataframe\">\n",
       "  <thead>\n",
       "    <tr style=\"text-align: right;\">\n",
       "      <th></th>\n",
       "      <th>key</th>\n",
       "      <th>y</th>\n",
       "    </tr>\n",
       "  </thead>\n",
       "  <tbody>\n",
       "    <tr>\n",
       "      <th>56</th>\n",
       "      <td>52602</td>\n",
       "      <td>6788.668269</td>\n",
       "    </tr>\n",
       "    <tr>\n",
       "      <th>42</th>\n",
       "      <td>36516</td>\n",
       "      <td>5512.768687</td>\n",
       "    </tr>\n",
       "    <tr>\n",
       "      <th>88</th>\n",
       "      <td>76872</td>\n",
       "      <td>5469.976213</td>\n",
       "    </tr>\n",
       "    <tr>\n",
       "      <th>57</th>\n",
       "      <td>55896</td>\n",
       "      <td>5157.350431</td>\n",
       "    </tr>\n",
       "    <tr>\n",
       "      <th>34</th>\n",
       "      <td>24488</td>\n",
       "      <td>5130.673219</td>\n",
       "    </tr>\n",
       "    <tr>\n",
       "      <th>48</th>\n",
       "      <td>43045</td>\n",
       "      <td>5118.050320</td>\n",
       "    </tr>\n",
       "    <tr>\n",
       "      <th>117</th>\n",
       "      <td>98721</td>\n",
       "      <td>5038.642555</td>\n",
       "    </tr>\n",
       "    <tr>\n",
       "      <th>27</th>\n",
       "      <td>20118</td>\n",
       "      <td>4955.508885</td>\n",
       "    </tr>\n",
       "    <tr>\n",
       "      <th>28</th>\n",
       "      <td>20423</td>\n",
       "      <td>4950.929064</td>\n",
       "    </tr>\n",
       "    <tr>\n",
       "      <th>54</th>\n",
       "      <td>48768</td>\n",
       "      <td>4927.716751</td>\n",
       "    </tr>\n",
       "  </tbody>\n",
       "</table>\n",
       "</div>"
      ],
      "text/plain": [
       "       key            y\n",
       "56   52602  6788.668269\n",
       "42   36516  5512.768687\n",
       "88   76872  5469.976213\n",
       "57   55896  5157.350431\n",
       "34   24488  5130.673219\n",
       "48   43045  5118.050320\n",
       "117  98721  5038.642555\n",
       "27   20118  4955.508885\n",
       "28   20423  4950.929064\n",
       "54   48768  4927.716751"
      ]
     },
     "execution_count": 48,
     "metadata": {},
     "output_type": "execute_result"
    }
   ],
   "source": [
    "group_product_sales_mean.nlargest(10, \"y\")"
   ]
  },
  {
   "cell_type": "code",
   "execution_count": 49,
   "metadata": {},
   "outputs": [
    {
     "data": {
      "text/html": [
       "<div>\n",
       "<style scoped>\n",
       "    .dataframe tbody tr th:only-of-type {\n",
       "        vertical-align: middle;\n",
       "    }\n",
       "\n",
       "    .dataframe tbody tr th {\n",
       "        vertical-align: top;\n",
       "    }\n",
       "\n",
       "    .dataframe thead th {\n",
       "        text-align: right;\n",
       "    }\n",
       "</style>\n",
       "<table border=\"1\" class=\"dataframe\">\n",
       "  <thead>\n",
       "    <tr style=\"text-align: right;\">\n",
       "      <th></th>\n",
       "      <th>key</th>\n",
       "      <th>y</th>\n",
       "    </tr>\n",
       "  </thead>\n",
       "  <tbody>\n",
       "    <tr>\n",
       "      <th>56</th>\n",
       "      <td>52602</td>\n",
       "      <td>529516.124969</td>\n",
       "    </tr>\n",
       "    <tr>\n",
       "      <th>42</th>\n",
       "      <td>36516</td>\n",
       "      <td>429995.957601</td>\n",
       "    </tr>\n",
       "    <tr>\n",
       "      <th>57</th>\n",
       "      <td>55896</td>\n",
       "      <td>402273.333639</td>\n",
       "    </tr>\n",
       "    <tr>\n",
       "      <th>48</th>\n",
       "      <td>43045</td>\n",
       "      <td>399207.924981</td>\n",
       "    </tr>\n",
       "    <tr>\n",
       "      <th>117</th>\n",
       "      <td>98721</td>\n",
       "      <td>393014.119313</td>\n",
       "    </tr>\n",
       "    <tr>\n",
       "      <th>28</th>\n",
       "      <td>20423</td>\n",
       "      <td>386172.466955</td>\n",
       "    </tr>\n",
       "    <tr>\n",
       "      <th>54</th>\n",
       "      <td>48768</td>\n",
       "      <td>384361.906579</td>\n",
       "    </tr>\n",
       "    <tr>\n",
       "      <th>41</th>\n",
       "      <td>32473</td>\n",
       "      <td>378162.113425</td>\n",
       "    </tr>\n",
       "    <tr>\n",
       "      <th>4</th>\n",
       "      <td>4361</td>\n",
       "      <td>376849.859478</td>\n",
       "    </tr>\n",
       "    <tr>\n",
       "      <th>20</th>\n",
       "      <td>16071</td>\n",
       "      <td>372146.150452</td>\n",
       "    </tr>\n",
       "  </tbody>\n",
       "</table>\n",
       "</div>"
      ],
      "text/plain": [
       "       key              y\n",
       "56   52602  529516.124969\n",
       "42   36516  429995.957601\n",
       "57   55896  402273.333639\n",
       "48   43045  399207.924981\n",
       "117  98721  393014.119313\n",
       "28   20423  386172.466955\n",
       "54   48768  384361.906579\n",
       "41   32473  378162.113425\n",
       "4     4361  376849.859478\n",
       "20   16071  372146.150452"
      ]
     },
     "execution_count": 49,
     "metadata": {},
     "output_type": "execute_result"
    }
   ],
   "source": [
    "group_product_sales_sum.nlargest(10, \"y\")"
   ]
  },
  {
   "cell_type": "markdown",
   "metadata": {},
   "source": [
    "This way it can be seen that the sum of products sold and the median value show different products."
   ]
  },
  {
   "cell_type": "markdown",
   "metadata": {},
   "source": [
    "*Space for improvement: Let's see which products had sales growth in the last 6 and 12 months, and which had a decrease in sales, and find the product with biggest growth and with biggest fall"
   ]
  },
  {
   "cell_type": "markdown",
   "metadata": {},
   "source": [
    "# Seasonal Decomposition Using Moving Averages\n",
    "****"
   ]
  },
  {
   "cell_type": "code",
   "execution_count": 50,
   "metadata": {},
   "outputs": [],
   "source": [
    "dataset[\"y\"].fillna(dataset[\"y\"].median(), inplace=True)"
   ]
  },
  {
   "cell_type": "markdown",
   "metadata": {},
   "source": [
    "Additive Model\n",
    "\n",
    "An additive model suggests that the components are added together as follows:\n",
    "\n",
    "y(t) = Level + Trend + Seasonality + Noise\n",
    "An additive model is linear where changes over time are consistently made by the same amount."
   ]
  },
  {
   "cell_type": "code",
   "execution_count": 51,
   "metadata": {},
   "outputs": [
    {
     "data": {
      "text/plain": [
       "DatetimeIndex(['2012-01-01', '2012-02-01', '2012-03-01', '2012-04-01',\n",
       "               '2012-05-01', '2012-06-01', '2012-07-01', '2012-08-01',\n",
       "               '2012-09-01', '2012-10-01',\n",
       "               ...\n",
       "               '2017-09-01', '2017-10-01', '2017-11-01', '2017-12-01',\n",
       "               '2018-01-01', '2018-02-01', '2018-03-01', '2018-04-01',\n",
       "               '2018-05-01', '2018-06-01'],\n",
       "              dtype='datetime64[ns]', name='date_x', length=8437, freq=None)"
      ]
     },
     "execution_count": 51,
     "metadata": {},
     "output_type": "execute_result"
    }
   ],
   "source": [
    "dataset = dataset.set_index('date_x')\n",
    "dataset.index"
   ]
  },
  {
   "cell_type": "markdown",
   "metadata": {},
   "source": [
    "We will use the average daily sales value for that month"
   ]
  },
  {
   "cell_type": "code",
   "execution_count": 52,
   "metadata": {},
   "outputs": [],
   "source": [
    "y = dataset[\"y\"].resample('MS').mean()"
   ]
  },
  {
   "cell_type": "code",
   "execution_count": 53,
   "metadata": {},
   "outputs": [
    {
     "data": {
      "image/png": "[encoded data removed]",
      "text/plain": [
       "<Figure size 1296x576 with 4 Axes>"
      ]
     },
     "metadata": {
      "needs_background": "light"
     },
     "output_type": "display_data"
    }
   ],
   "source": [
    "from pylab import rcParams\n",
    "import statsmodels.api as sm\n",
    "\n",
    "rcParams['figure.figsize'] = 18, 8\n",
    "decomposition = sm.tsa.seasonal_decompose(y, model='additive')\n",
    "fig = decomposition.plot()\n",
    "plt.show()"
   ]
  },
  {
   "cell_type": "markdown",
   "metadata": {},
   "source": [
    "From the plot above we can clearly see the seasonal component of the data, and we can also see the separated upward trend of sales in time."
   ]
  },
  {
   "cell_type": "markdown",
   "metadata": {},
   "source": [
    "# Stationarity Test\n",
    "****"
   ]
  },
  {
   "cell_type": "markdown",
   "metadata": {},
   "source": [
    "Stationarity refers to time-invariance of a series. (ie) Two points in a time series are related to each other by only how far apart they are, and not by the direction(forward/backward)\n",
    "\n",
    "When a time series is stationary, it can be easier to model. Statistical modeling methods assume or require the time series to be stationary.\n",
    "\n",
    "The Augmented Dickey-Fuller test is a type of statistical test called a unit root test.\n",
    "\n",
    "The intuition behind a unit root test is that it determines how strongly a time series is defined by a trend.\n",
    "\n",
    "* Null Hypothesis (H0): If failed to be rejected, it suggests the time series has a unit root, meaning it is non-stationary. It has some time dependent structure.\n",
    "\n",
    "* Alternate Hypothesis (H1): The null hypothesis is rejected; it suggests the time series does not have a unit root, meaning it is stationary. It does not have time-dependent structure."
   ]
  },
  {
   "cell_type": "code",
   "execution_count": 54,
   "metadata": {},
   "outputs": [],
   "source": [
    "def test_stationarity(timeseries):\n",
    "    \n",
    "    #Perform Dickey-Fuller test:\n",
    "    print('Results of Dickey-Fuller Test:')\n",
    "    dftest = adfuller(timeseries, autolag='AIC')\n",
    "    dfoutput = pd.Series(dftest[0:4], index=['Test Statistic','p-value','#Lags Used','Number of Observations Used'])\n",
    "    \n",
    "    for key,value in dftest[4].items():\n",
    "        dfoutput['Critical Value (%s)'%key] = value\n",
    "    print (dfoutput)"
   ]
  },
  {
   "cell_type": "code",
   "execution_count": 55,
   "metadata": {},
   "outputs": [
    {
     "data": {
      "text/html": [
       "<div>\n",
       "<style scoped>\n",
       "    .dataframe tbody tr th:only-of-type {\n",
       "        vertical-align: middle;\n",
       "    }\n",
       "\n",
       "    .dataframe tbody tr th {\n",
       "        vertical-align: top;\n",
       "    }\n",
       "\n",
       "    .dataframe thead th {\n",
       "        text-align: right;\n",
       "    }\n",
       "</style>\n",
       "<table border=\"1\" class=\"dataframe\">\n",
       "  <thead>\n",
       "    <tr style=\"text-align: right;\">\n",
       "      <th></th>\n",
       "      <th>date_x</th>\n",
       "      <th>y</th>\n",
       "    </tr>\n",
       "  </thead>\n",
       "  <tbody>\n",
       "    <tr>\n",
       "      <th>0</th>\n",
       "      <td>2012-01-01</td>\n",
       "      <td>95893.036745</td>\n",
       "    </tr>\n",
       "    <tr>\n",
       "      <th>1</th>\n",
       "      <td>2012-02-01</td>\n",
       "      <td>118535.750612</td>\n",
       "    </tr>\n",
       "    <tr>\n",
       "      <th>2</th>\n",
       "      <td>2012-03-01</td>\n",
       "      <td>234472.645893</td>\n",
       "    </tr>\n",
       "    <tr>\n",
       "      <th>3</th>\n",
       "      <td>2012-04-01</td>\n",
       "      <td>205492.234465</td>\n",
       "    </tr>\n",
       "    <tr>\n",
       "      <th>4</th>\n",
       "      <td>2012-05-01</td>\n",
       "      <td>268655.142392</td>\n",
       "    </tr>\n",
       "    <tr>\n",
       "      <th>...</th>\n",
       "      <td>...</td>\n",
       "      <td>...</td>\n",
       "    </tr>\n",
       "    <tr>\n",
       "      <th>73</th>\n",
       "      <td>2018-02-01</td>\n",
       "      <td>297729.358282</td>\n",
       "    </tr>\n",
       "    <tr>\n",
       "      <th>74</th>\n",
       "      <td>2018-03-01</td>\n",
       "      <td>488924.897841</td>\n",
       "    </tr>\n",
       "    <tr>\n",
       "      <th>75</th>\n",
       "      <td>2018-04-01</td>\n",
       "      <td>548104.851969</td>\n",
       "    </tr>\n",
       "    <tr>\n",
       "      <th>76</th>\n",
       "      <td>2018-05-01</td>\n",
       "      <td>670852.115058</td>\n",
       "    </tr>\n",
       "    <tr>\n",
       "      <th>77</th>\n",
       "      <td>2018-06-01</td>\n",
       "      <td>745207.860510</td>\n",
       "    </tr>\n",
       "  </tbody>\n",
       "</table>\n",
       "<p>78 rows × 2 columns</p>\n",
       "</div>"
      ],
      "text/plain": [
       "       date_x              y\n",
       "0  2012-01-01   95893.036745\n",
       "1  2012-02-01  118535.750612\n",
       "2  2012-03-01  234472.645893\n",
       "3  2012-04-01  205492.234465\n",
       "4  2012-05-01  268655.142392\n",
       "..        ...            ...\n",
       "73 2018-02-01  297729.358282\n",
       "74 2018-03-01  488924.897841\n",
       "75 2018-04-01  548104.851969\n",
       "76 2018-05-01  670852.115058\n",
       "77 2018-06-01  745207.860510\n",
       "\n",
       "[78 rows x 2 columns]"
      ]
     },
     "execution_count": 55,
     "metadata": {},
     "output_type": "execute_result"
    }
   ],
   "source": [
    "total_sales_daily_sum"
   ]
  },
  {
   "cell_type": "code",
   "execution_count": 56,
   "metadata": {},
   "outputs": [
    {
     "name": "stdout",
     "output_type": "stream",
     "text": [
      "Results of Dickey-Fuller Test:\n",
      "Test Statistic                 -4.304432\n",
      "p-value                         0.000436\n",
      "#Lags Used                     11.000000\n",
      "Number of Observations Used    66.000000\n",
      "Critical Value (1%)            -3.533560\n",
      "Critical Value (5%)            -2.906444\n",
      "Critical Value (10%)           -2.590724\n",
      "dtype: float64\n"
     ]
    }
   ],
   "source": [
    "test_stationarity(total_sales_daily_sum[\"y\"])"
   ]
  },
  {
   "cell_type": "markdown",
   "metadata": {},
   "source": [
    "p-value lower than 1% shows that the data probably isn't stationary.\n",
    "\n",
    "As part of the output, we get a look-up table to help determine the ADF statistic. We can see that our statistic value of -4 is less than the value of -3.533 at 1%.\n",
    "\n",
    "This suggests that we can reject the null hypothesis with a significance level of less than 1% (i.e. a low probability that the result is a statistical fluke).\n",
    "\n",
    "Rejecting the null hypothesis means that the process has no unit root, and in turn that the time series is stationary or does not have time-dependent structure."
   ]
  },
  {
   "cell_type": "markdown",
   "metadata": {},
   "source": [
    "# Feature Scaling\n",
    "****"
   ]
  },
  {
   "cell_type": "markdown",
   "metadata": {},
   "source": [
    "Standardization of datasets is a common requirement for many machine learning estimators implemented in scikit-learn; they might behave badly if the individual features do not more or less look like standard normally distributed data: Gaussian with zero mean and unit variance.\n",
    "\n",
    "Since we trained tree-based models on the data, feature scaling isn't needed."
   ]
  },
  {
   "cell_type": "markdown",
   "metadata": {},
   "source": [
    "# Transformations on the test set"
   ]
  },
  {
   "cell_type": "markdown",
   "metadata": {},
   "source": [
    "Making the same transformations on the test set as on the training set:"
   ]
  },
  {
   "cell_type": "code",
   "execution_count": 57,
   "metadata": {},
   "outputs": [],
   "source": [
    "X_test = X_test.drop(to_drop, axis = 1)"
   ]
  },
  {
   "cell_type": "code",
   "execution_count": 58,
   "metadata": {},
   "outputs": [
    {
     "name": "stdout",
     "output_type": "stream",
     "text": [
      "Skewness of column x1 BEFORE the flooring and capping: 10.15\n",
      "Skewness of column x1 AFTER the flooring and capping: 1.97\n",
      "\n",
      "Skewness of column x2 BEFORE the flooring and capping: 16.30\n",
      "Skewness of column x2 AFTER the flooring and capping: 2.11\n",
      "\n",
      "Skewness of column x3 BEFORE the flooring and capping: 11.93\n",
      "Skewness of column x3 AFTER the flooring and capping: 2.04\n",
      "\n",
      "Skewness of column x4 BEFORE the flooring and capping: 13.97\n",
      "Skewness of column x4 AFTER the flooring and capping: 1.98\n",
      "\n",
      "Skewness of column x7 BEFORE the flooring and capping: 5.00\n",
      "Skewness of column x7 AFTER the flooring and capping: 1.74\n",
      "\n",
      "Skewness of column x8 BEFORE the flooring and capping: 5.33\n",
      "Skewness of column x8 AFTER the flooring and capping: 1.86\n",
      "\n",
      "Skewness of column x10 BEFORE the flooring and capping: 3.74\n",
      "Skewness of column x10 AFTER the flooring and capping: 1.72\n",
      "\n",
      "Skewness of column x12 BEFORE the flooring and capping: 10.55\n",
      "Skewness of column x12 AFTER the flooring and capping: 1.64\n",
      "\n",
      "Skewness of column x14 BEFORE the flooring and capping: 6.17\n",
      "Skewness of column x14 AFTER the flooring and capping: 1.80\n",
      "\n",
      "Skewness of column x15 BEFORE the flooring and capping: 4.66\n",
      "Skewness of column x15 AFTER the flooring and capping: 1.74\n",
      "\n",
      "Skewness of column x19 BEFORE the flooring and capping: 12.15\n",
      "Skewness of column x19 AFTER the flooring and capping: 1.64\n",
      "\n",
      "Skewness of column x21 BEFORE the flooring and capping: 6.23\n",
      "Skewness of column x21 AFTER the flooring and capping: 1.75\n",
      "\n",
      "Skewness of column x22 BEFORE the flooring and capping: 10.10\n",
      "Skewness of column x22 AFTER the flooring and capping: 1.70\n",
      "\n",
      "Skewness of column x24 BEFORE the flooring and capping: 12.38\n",
      "Skewness of column x24 AFTER the flooring and capping: 1.96\n",
      "\n",
      "Skewness of column x26 BEFORE the flooring and capping: 14.39\n",
      "Skewness of column x26 AFTER the flooring and capping: 1.65\n",
      "\n",
      "Skewness of column x28 BEFORE the flooring and capping: 8.78\n",
      "Skewness of column x28 AFTER the flooring and capping: 1.81\n",
      "\n",
      "Skewness of column x29 BEFORE the flooring and capping: 4.74\n",
      "Skewness of column x29 AFTER the flooring and capping: 1.81\n",
      "\n",
      "Skewness of column x31 BEFORE the flooring and capping: 12.69\n",
      "Skewness of column x31 AFTER the flooring and capping: 1.96\n",
      "\n",
      "Skewness of column x33 BEFORE the flooring and capping: 14.08\n",
      "Skewness of column x33 AFTER the flooring and capping: 1.64\n",
      "\n",
      "Skewness of column x35 BEFORE the flooring and capping: 5.96\n",
      "Skewness of column x35 AFTER the flooring and capping: 1.75\n",
      "\n",
      "Skewness of column x36 BEFORE the flooring and capping: 6.40\n",
      "Skewness of column x36 AFTER the flooring and capping: 1.72\n",
      "\n",
      "Skewness of column x38 BEFORE the flooring and capping: 13.65\n",
      "Skewness of column x38 AFTER the flooring and capping: 2.04\n",
      "\n",
      "Skewness of column x40 BEFORE the flooring and capping: 21.77\n",
      "Skewness of column x40 AFTER the flooring and capping: 1.65\n",
      "\n",
      "Skewness of column x42 BEFORE the flooring and capping: 5.82\n",
      "Skewness of column x42 AFTER the flooring and capping: 1.73\n",
      "\n",
      "Skewness of column x43 BEFORE the flooring and capping: 5.12\n",
      "Skewness of column x43 AFTER the flooring and capping: 1.76\n",
      "\n",
      "Skewness of column x45 BEFORE the flooring and capping: 7.65\n",
      "Skewness of column x45 AFTER the flooring and capping: 1.84\n",
      "\n",
      "Skewness of column x47 BEFORE the flooring and capping: 13.72\n",
      "Skewness of column x47 AFTER the flooring and capping: 1.61\n",
      "\n",
      "Skewness of column x49 BEFORE the flooring and capping: 15.68\n",
      "Skewness of column x49 AFTER the flooring and capping: 1.81\n",
      "\n",
      "Skewness of column x50 BEFORE the flooring and capping: 6.06\n",
      "Skewness of column x50 AFTER the flooring and capping: 1.79\n",
      "\n",
      "Skewness of column x51 BEFORE the flooring and capping: 6.81\n",
      "Skewness of column x51 AFTER the flooring and capping: 1.67\n",
      "\n",
      "Skewness of column x52 BEFORE the flooring and capping: 12.66\n",
      "Skewness of column x52 AFTER the flooring and capping: 1.97\n",
      "\n",
      "Skewness of column x54 BEFORE the flooring and capping: 14.77\n",
      "Skewness of column x54 AFTER the flooring and capping: 1.69\n",
      "\n",
      "Skewness of column x56 BEFORE the flooring and capping: 14.78\n",
      "Skewness of column x56 AFTER the flooring and capping: 1.87\n",
      "\n",
      "Skewness of column x57 BEFORE the flooring and capping: 5.11\n",
      "Skewness of column x57 AFTER the flooring and capping: 1.75\n",
      "\n",
      "Skewness of column x58 BEFORE the flooring and capping: 6.89\n",
      "Skewness of column x58 AFTER the flooring and capping: 1.82\n",
      "\n",
      "Skewness of column x59 BEFORE the flooring and capping: 10.57\n",
      "Skewness of column x59 AFTER the flooring and capping: 1.93\n",
      "\n",
      "Skewness of column x61 BEFORE the flooring and capping: 11.76\n",
      "Skewness of column x61 AFTER the flooring and capping: 1.69\n",
      "\n",
      "Skewness of column x63 BEFORE the flooring and capping: 5.73\n",
      "Skewness of column x63 AFTER the flooring and capping: 1.72\n",
      "\n",
      "Skewness of column x64 BEFORE the flooring and capping: 4.78\n",
      "Skewness of column x64 AFTER the flooring and capping: 1.74\n",
      "\n",
      "Skewness of column x66 BEFORE the flooring and capping: 11.79\n",
      "Skewness of column x66 AFTER the flooring and capping: 2.10\n",
      "\n",
      "Skewness of column x68 BEFORE the flooring and capping: 13.12\n",
      "Skewness of column x68 AFTER the flooring and capping: 1.74\n",
      "\n",
      "Skewness of column x70 BEFORE the flooring and capping: 6.25\n",
      "Skewness of column x70 AFTER the flooring and capping: 1.76\n",
      "\n",
      "Skewness of column x71 BEFORE the flooring and capping: 5.24\n",
      "Skewness of column x71 AFTER the flooring and capping: 1.78\n",
      "\n",
      "Skewness of column x73 BEFORE the flooring and capping: 10.19\n",
      "Skewness of column x73 AFTER the flooring and capping: 2.02\n",
      "\n",
      "Skewness of column x75 BEFORE the flooring and capping: 16.38\n",
      "Skewness of column x75 AFTER the flooring and capping: 1.58\n",
      "\n",
      "Skewness of column x76 BEFORE the flooring and capping: 4.61\n",
      "Skewness of column x76 AFTER the flooring and capping: 1.75\n",
      "\n",
      "Skewness of column x77 BEFORE the flooring and capping: 23.18\n",
      "Skewness of column x77 AFTER the flooring and capping: 1.82\n",
      "\n",
      "Skewness of column x78 BEFORE the flooring and capping: 5.54\n",
      "Skewness of column x78 AFTER the flooring and capping: 1.75\n",
      "\n",
      "Skewness of column x80 BEFORE the flooring and capping: 9.09\n",
      "Skewness of column x80 AFTER the flooring and capping: 1.93\n",
      "\n",
      "Skewness of column x82 BEFORE the flooring and capping: 10.76\n",
      "Skewness of column x82 AFTER the flooring and capping: 1.62\n",
      "\n",
      "Skewness of column x84 BEFORE the flooring and capping: 5.85\n",
      "Skewness of column x84 AFTER the flooring and capping: 1.69\n",
      "\n",
      "Skewness of column x85 BEFORE the flooring and capping: 5.03\n",
      "Skewness of column x85 AFTER the flooring and capping: 1.78\n",
      "\n",
      "Skewness of column x87 BEFORE the flooring and capping: -12.78\n",
      "Skewness of column x87 AFTER the flooring and capping: 2.02\n",
      "\n",
      "Skewness of column x89 BEFORE the flooring and capping: 16.58\n",
      "Skewness of column x89 AFTER the flooring and capping: 1.77\n",
      "\n",
      "Skewness of column x91 BEFORE the flooring and capping: 12.62\n",
      "Skewness of column x91 AFTER the flooring and capping: 1.81\n",
      "\n",
      "Skewness of column x92 BEFORE the flooring and capping: 6.01\n",
      "Skewness of column x92 AFTER the flooring and capping: 1.69\n",
      "\n",
      "Skewness of column x94 BEFORE the flooring and capping: 18.33\n",
      "Skewness of column x94 AFTER the flooring and capping: 2.00\n",
      "\n",
      "Skewness of column x96 BEFORE the flooring and capping: 13.29\n",
      "Skewness of column x96 AFTER the flooring and capping: 1.55\n",
      "\n",
      "Skewness of column x98 BEFORE the flooring and capping: 6.29\n",
      "Skewness of column x98 AFTER the flooring and capping: 1.88\n",
      "\n",
      "Skewness of column x99 BEFORE the flooring and capping: 5.51\n",
      "Skewness of column x99 AFTER the flooring and capping: 1.78\n",
      "\n",
      "Skewness of column x103 BEFORE the flooring and capping: 11.84\n",
      "Skewness of column x103 AFTER the flooring and capping: 1.70\n",
      "\n",
      "Skewness of column x105 BEFORE the flooring and capping: 4.98\n",
      "Skewness of column x105 AFTER the flooring and capping: 1.78\n",
      "\n",
      "Skewness of column x106 BEFORE the flooring and capping: 5.73\n",
      "Skewness of column x106 AFTER the flooring and capping: 1.73\n",
      "\n",
      "Skewness of column x108 BEFORE the flooring and capping: 14.08\n",
      "Skewness of column x108 AFTER the flooring and capping: 1.95\n",
      "\n",
      "Skewness of column x109 BEFORE the flooring and capping: 8.95\n",
      "Skewness of column x109 AFTER the flooring and capping: 1.56\n",
      "\n",
      "Skewness of column x110 BEFORE the flooring and capping: 12.13\n",
      "Skewness of column x110 AFTER the flooring and capping: 1.70\n",
      "\n",
      "Skewness of column x112 BEFORE the flooring and capping: 14.85\n",
      "Skewness of column x112 AFTER the flooring and capping: 1.69\n",
      "\n"
     ]
    }
   ],
   "source": [
    "X_test.drop(['x5', 'x6', 'x11', 'x17', 'x18', 'x25', 'x32', 'x39', 'x46', 'x53', 'x60', 'x67', 'x74', 'x81', 'x95', 'x102' ], axis = 1, inplace=True)\n",
    "\n",
    "for column in X_test.iloc[:,2:].columns:\n",
    "    fill_na(column)\n",
    "    \n",
    "for column in X_test.iloc[:,2:].columns:\n",
    "    transform_columns_flooring_capping(X_test, column)\n",
    "    \n",
    "X_test['date'] = pd.to_datetime(X_test['date'])\n",
    "\n",
    "X_test[\"month\"] = pd.DatetimeIndex(X_test[\"date\"]).month\n",
    "X_test[\"year\"] = pd.DatetimeIndex(X_test[\"date\"]).year\n",
    "\n",
    "X_test.infer_objects()\n",
    "\n",
    "len(X_test.columns)\n",
    "\n",
    "dataset = dataset.drop([\"date_y\"] ,axis = 1)\n",
    "X_test = X_test.drop(\"date\", axis = 1)"
   ]
  },
  {
   "cell_type": "markdown",
   "metadata": {},
   "source": [
    "# Feature Importance\n",
    "****"
   ]
  },
  {
   "cell_type": "markdown",
   "metadata": {},
   "source": [
    "Tree-based estimators can be used to compute impurity-based feature importances, which in turn can be used to discard irrelevant features (when coupled with the SelectFromModel meta-transformer):"
   ]
  },
  {
   "cell_type": "code",
   "execution_count": 59,
   "metadata": {},
   "outputs": [
    {
     "data": {
      "text/plain": [
       "RandomForestRegressor()"
      ]
     },
     "execution_count": 59,
     "metadata": {},
     "output_type": "execute_result"
    }
   ],
   "source": [
    "from sklearn.ensemble import RandomForestRegressor\n",
    "\n",
    "rf = RandomForestRegressor(n_estimators=100)\n",
    "rf.fit(dataset.iloc[:,:-1], dataset.iloc[:,-1])"
   ]
  },
  {
   "cell_type": "code",
   "execution_count": 60,
   "metadata": {},
   "outputs": [
    {
     "data": {
      "image/png": "[encoded data removed]",
      "text/plain": [
       "<Figure size 1080x1080 with 1 Axes>"
      ]
     },
     "metadata": {
      "needs_background": "light"
     },
     "output_type": "display_data"
    }
   ],
   "source": [
    "sorted_idx = rf.feature_importances_.argsort()\n",
    "\n",
    "plt.figure(figsize=(15,15))\n",
    "plt.barh(X_train.columns[sorted_idx], rf.feature_importances_[sorted_idx])\n",
    "plt.xlabel(\"Random Forest Feature Importance\")\n",
    "plt.show()"
   ]
  },
  {
   "cell_type": "code",
   "execution_count": 61,
   "metadata": {},
   "outputs": [],
   "source": [
    "from sklearn.feature_selection import SelectFromModel\n",
    "model = SelectFromModel(rf, prefit=True)\n",
    "#X_new = model.transform(X_train)"
   ]
  },
  {
   "cell_type": "markdown",
   "metadata": {},
   "source": [
    "It is visible that the most important features are key, year, month, x10, x109 and x22. We will make predictions on these variables."
   ]
  },
  {
   "cell_type": "markdown",
   "metadata": {},
   "source": [
    "# Creating the Models\n",
    "****"
   ]
  },
  {
   "cell_type": "markdown",
   "metadata": {},
   "source": [
    "This problem is Multi Variate Time Series Forecasting"
   ]
  },
  {
   "cell_type": "markdown",
   "metadata": {},
   "source": [
    "Since we don't have the actual y_test values to be predicted, but an empty column, we will take a part of the dataset for validation and check the model on the validation dataset"
   ]
  },
  {
   "cell_type": "code",
   "execution_count": 62,
   "metadata": {},
   "outputs": [],
   "source": [
    "from sklearn.model_selection import train_test_split\n",
    "\n",
    "dataset, validation_set = train_test_split(dataset, train_size = 0.8, shuffle = False)"
   ]
  },
  {
   "cell_type": "markdown",
   "metadata": {},
   "source": [
    "Sets for predictions:"
   ]
  },
  {
   "cell_type": "code",
   "execution_count": 63,
   "metadata": {},
   "outputs": [],
   "source": [
    "validation_set_features = validation_set[[\"key\", \"year\", \"month\", \"x10\", \"x22\", \"x85\", \"x92\", \"x109\"]]\n",
    "validation_set_y = validation_set.iloc[:,-1]"
   ]
  },
  {
   "cell_type": "code",
   "execution_count": 64,
   "metadata": {},
   "outputs": [],
   "source": [
    "dataset_features = dataset.iloc[:,:-1]\n",
    "dataset_features = dataset_features[[\"key\", \"year\", \"month\", \"x10\", \"x22\", \"x85\", \"x92\", \"x109\"]]\n",
    "y_test = dataset.iloc[:,-1]"
   ]
  },
  {
   "cell_type": "markdown",
   "metadata": {},
   "source": [
    "wmape = sum(np.abs(actual - forecast))/sum(actual)"
   ]
  },
  {
   "cell_type": "code",
   "execution_count": 65,
   "metadata": {},
   "outputs": [],
   "source": [
    "def WMAPE (forecast, actual):\n",
    "    wmape = 0\n",
    "    sum_j = 0\n",
    "    sum_abs = 0\n",
    "    for i,j in zip(forecast, actual):\n",
    "        sum_abs += np.abs(i - j)\n",
    "        sum_j += j \n",
    "    wmape = sum_abs/sum_j\n",
    "    print(round(wmape,2))\n",
    "    print('WMAPE Score: ', str(round(wmape * 100, 2)) , ' %')"
   ]
  },
  {
   "cell_type": "code",
   "execution_count": 66,
   "metadata": {},
   "outputs": [],
   "source": [
    "from xgboost import XGBRegressor\n",
    "from xgboost import plot_importance\n",
    "\n",
    "def xboost(x_train, y_train, x_test):\n",
    "    dtrain = xgb.DMatrix(x_train, label = y_train, feature_names = list(x_train.columns))\n",
    "    dtest = xgb.DMatrix(x_test, feature_names = list(x_test.columns))\n",
    "\n",
    "    params = {'max_depth':10,\n",
    "              'eta':0.2,\n",
    "              'silent':1,\n",
    "              'subsample':1}\n",
    "    \n",
    "    num_rounds = 4000\n",
    "\n",
    "    bst = xgb.train(params, dtrain, num_rounds)\n",
    "    plot_importance(bst)\n",
    "    \n",
    "    return pd.Series(bst.predict(dtest))"
   ]
  },
  {
   "cell_type": "code",
   "execution_count": 67,
   "metadata": {},
   "outputs": [
    {
     "name": "stdout",
     "output_type": "stream",
     "text": [
      "[20:07:59] WARNING: /Users/travis/build/dmlc/xgboost/src/learner.cc:573: \n",
      "Parameters: { \"silent\" } might not be used.\n",
      "\n",
      "  This may not be accurate due to some parameters are only used in language bindings but\n",
      "  passed down to XGBoost core.  Or some parameters are not used but slip through this\n",
      "  verification. Please open an issue if you find above cases.\n",
      "\n",
      "\n"
     ]
    },
    {
     "data": {
      "image/png": "[encoded data removed]",
      "text/plain": [
       "<Figure size 1296x576 with 1 Axes>"
      ]
     },
     "metadata": {
      "needs_background": "light"
     },
     "output_type": "display_data"
    }
   ],
   "source": [
    "predictions_validation = xboost(dataset_features, y_test, validation_set_features)"
   ]
  },
  {
   "cell_type": "code",
   "execution_count": 68,
   "metadata": {},
   "outputs": [
    {
     "name": "stdout",
     "output_type": "stream",
     "text": [
      "0.47\n",
      "WMAPE Score:  46.94  %\n"
     ]
    }
   ],
   "source": [
    "WMAPE(predictions_validation, validation_set_y)"
   ]
  },
  {
   "cell_type": "markdown",
   "metadata": {},
   "source": [
    "## LightGBM Model\n",
    "****\n",
    "\n",
    "XGBoost applies level-wise tree growth where LightGBM applies leaf-wise tree growth. Level-wise approach grows horizontal whereas leaf-wise grows vertical."
   ]
  },
  {
   "cell_type": "code",
   "execution_count": 69,
   "metadata": {},
   "outputs": [],
   "source": [
    "lgb_params =  { 'metric': 'mae',\n",
    "                'num_leaves' : 12,\n",
    "                'max_depth': 10,\n",
    "                'min_child_samples': 5,\n",
    "                'learning_rate': 0.03,\n",
    "                'colsample_bytree': 0.5,\n",
    "                'verbose': 0,\n",
    "                'num_boost_round': 2000,\n",
    "                'early_stopping_rounds': 200,\n",
    "                'min_child_weight' : 0.1,\n",
    "                'nthread': -1}\n",
    "\n",
    "cols = [col for col in dataset_features.columns]"
   ]
  },
  {
   "cell_type": "code",
   "execution_count": 70,
   "metadata": {},
   "outputs": [
    {
     "name": "stdout",
     "output_type": "stream",
     "text": [
      "[LightGBM] [Warning] Auto-choosing col-wise multi-threading, the overhead of testing was 0.002307 seconds.\n",
      "You can set `force_col_wise=true` to remove the overhead.\n",
      "Training until validation scores don't improve for 200 rounds\n"
     ]
    },
    {
     "name": "stderr",
     "output_type": "stream",
     "text": [
      "/opt/anaconda3/lib/python3.8/site-packages/lightgbm/engine.py:177: UserWarning: Found `num_boost_round` in params. Will use it instead of argument\n",
      "  _log_warning(f\"Found `{alias}` in params. Will use it instead of argument\")\n",
      "/opt/anaconda3/lib/python3.8/site-packages/lightgbm/engine.py:181: UserWarning: 'early_stopping_rounds' argument is deprecated and will be removed in a future release of LightGBM. Pass 'early_stopping()' callback via 'callbacks' argument instead.\n",
      "  _log_warning(\"'early_stopping_rounds' argument is deprecated and will be removed in a future release of LightGBM. \"\n",
      "/opt/anaconda3/lib/python3.8/site-packages/lightgbm/engine.py:240: UserWarning: 'verbose_eval' argument is deprecated and will be removed in a future release of LightGBM. Pass 'log_evaluation()' callback via 'callbacks' argument instead.\n",
      "  _log_warning(\"'verbose_eval' argument is deprecated and will be removed in a future release of LightGBM. \"\n"
     ]
    },
    {
     "name": "stdout",
     "output_type": "stream",
     "text": [
      "[100]\ttraining's l1: 1408.79\tvalid_1's l1: 1518.93\n",
      "[200]\ttraining's l1: 1276.39\tvalid_1's l1: 1482.34\n",
      "[300]\ttraining's l1: 1199.2\tvalid_1's l1: 1473.56\n",
      "[400]\ttraining's l1: 1146\tvalid_1's l1: 1477.88\n",
      "[500]\ttraining's l1: 1102.98\tvalid_1's l1: 1491.21\n",
      "Early stopping, best iteration is:\n",
      "[303]\ttraining's l1: 1196.71\tvalid_1's l1: 1473.26\n"
     ]
    }
   ],
   "source": [
    "lgbtrain = lgb.Dataset(data = dataset_features, label = y_test, feature_name = cols)\n",
    "\n",
    "lgbval = lgb.Dataset(data = validation_set_features, \n",
    "                     label = validation_set_y, \n",
    "                     reference = lgbtrain, \n",
    "                     feature_name = cols)\n",
    "\n",
    "model_lgb = lgb.train(lgb_params, \n",
    "                  lgbtrain,\n",
    "                  valid_sets = [lgbtrain, lgbval],\n",
    "                  num_boost_round = lgb_params['num_boost_round'],\n",
    "                  early_stopping_rounds = lgb_params['early_stopping_rounds'],\n",
    "                  verbose_eval=100)"
   ]
  },
  {
   "cell_type": "code",
   "execution_count": 71,
   "metadata": {},
   "outputs": [],
   "source": [
    "y_pred_val = model_lgb.predict(validation_set_features, num_iteration = model_lgb.best_iteration)"
   ]
  },
  {
   "cell_type": "code",
   "execution_count": 72,
   "metadata": {},
   "outputs": [
    {
     "name": "stdout",
     "output_type": "stream",
     "text": [
      "0.4\n",
      "WMAPE Score:  39.7  %\n"
     ]
    }
   ],
   "source": [
    "WMAPE(y_pred_val, validation_set_y)"
   ]
  },
  {
   "cell_type": "markdown",
   "metadata": {},
   "source": [
    "## CatBoost\n",
    "****"
   ]
  },
  {
   "cell_type": "code",
   "execution_count": 73,
   "metadata": {},
   "outputs": [],
   "source": [
    "from catboost import CatBoostRegressor"
   ]
  },
  {
   "cell_type": "code",
   "execution_count": 74,
   "metadata": {},
   "outputs": [],
   "source": [
    "model_cb = CatBoostRegressor(iterations=2,\n",
    "                          learning_rate=1,\n",
    "                          depth=2)"
   ]
  },
  {
   "cell_type": "code",
   "execution_count": 75,
   "metadata": {},
   "outputs": [
    {
     "name": "stdout",
     "output_type": "stream",
     "text": [
      "0:\tlearn: 2067.5306282\ttotal: 53ms\tremaining: 53ms\n",
      "1:\tlearn: 1964.0145043\ttotal: 54.8ms\tremaining: 0us\n"
     ]
    }
   ],
   "source": [
    "model_cb.fit(dataset_features, y_test)\n",
    "\n",
    "predictions_cb = model_cb.predict(validation_set_features)"
   ]
  },
  {
   "cell_type": "code",
   "execution_count": 76,
   "metadata": {},
   "outputs": [
    {
     "name": "stdout",
     "output_type": "stream",
     "text": [
      "0.42\n",
      "WMAPE Score:  41.97  %\n"
     ]
    }
   ],
   "source": [
    "WMAPE(predictions_cb, validation_set_y)"
   ]
  },
  {
   "cell_type": "markdown",
   "metadata": {},
   "source": [
    "# Conclusion\n",
    "****\n",
    "\n",
    "LightGBM model showed the best results when testing on the validation_set, with 39.7%. Next, we will change the hyperparameters to get the best values and to lower the WMAPE measure of error:"
   ]
  },
  {
   "cell_type": "code",
   "execution_count": 77,
   "metadata": {},
   "outputs": [],
   "source": [
    "from sklearn.model_selection import GridSearchCV\n",
    "\n",
    "param_grid = [\n",
    "    {\n",
    "    'num_leaves' : [10, 12, 14],\n",
    "    'max_depth': [8, 10, 12],\n",
    "    'min_child_samples': [4, 5],\n",
    "    'learning_rate': [0.03],\n",
    "    'colsample_bytree': [0.4, 0.5],\n",
    "    'verbose': [0, 1],\n",
    "    'num_boost_round': [2500],\n",
    "    'early_stopping_rounds': [300],\n",
    "    'min_child_weight' : [0.1, 0.2],\n",
    "    'nthread': [-1]\n",
    "    }\n",
    "    ]"
   ]
  },
  {
   "cell_type": "code",
   "execution_count": 78,
   "metadata": {},
   "outputs": [],
   "source": [
    "model_lgb_1 = lgb.LGBMRegressor()\n",
    "\n",
    "gs = GridSearchCV(\n",
    "    estimator=model_lgb_1,\n",
    "    param_grid=param_grid, \n",
    "    cv=5, \n",
    "    n_jobs=-1, \n",
    "    scoring='neg_mean_squared_error',\n",
    "    verbose=2\n",
    ")"
   ]
  },
  {
   "cell_type": "code",
   "execution_count": 79,
   "metadata": {},
   "outputs": [
    {
     "name": "stdout",
     "output_type": "stream",
     "text": [
      "[LightGBM] [Warning] Auto-choosing col-wise multi-threading, the overhead of testing was 0.002220 seconds.\n",
      "You can set `force_col_wise=true` to remove the overhead.\n",
      "Training until validation scores don't improve for 200 rounds\n",
      "[100]\ttraining's l1: 1409.16\tvalid_1's l1: 1519.27\n",
      "[200]\ttraining's l1: 1279.67\tvalid_1's l1: 1479.26\n",
      "[300]\ttraining's l1: 1205.08\tvalid_1's l1: 1472.18\n",
      "[400]\ttraining's l1: 1149.15\tvalid_1's l1: 1475.38\n",
      "Early stopping, best iteration is:\n",
      "[291]\ttraining's l1: 1210.68\tvalid_1's l1: 1471.19\n"
     ]
    }
   ],
   "source": [
    "lgb_params =  { 'metric': 'mae',\n",
    "                'num_leaves' : 12,\n",
    "                'max_depth': 10,\n",
    "                'min_child_samples': 14,\n",
    "                'learning_rate': 0.03,\n",
    "                'colsample_bytree': 0.5,\n",
    "                'verbose': 0,\n",
    "                'num_boost_round': 2000,\n",
    "                'early_stopping_rounds': 200,\n",
    "                'min_child_weight' : 0.1,\n",
    "                'nthread': -1}\n",
    "\n",
    "lgbtrain = lgb.Dataset(data = dataset_features, label = y_test, feature_name = cols)\n",
    "\n",
    "lgbval = lgb.Dataset(data = validation_set_features, \n",
    "                     label = validation_set_y, \n",
    "                     reference = lgbtrain, \n",
    "                     feature_name = cols)\n",
    "\n",
    "model_lgb = lgb.train(lgb_params, \n",
    "                  lgbtrain,\n",
    "                  valid_sets = [lgbtrain, lgbval],\n",
    "                  num_boost_round = lgb_params['num_boost_round'],\n",
    "                  early_stopping_rounds = lgb_params['early_stopping_rounds'],\n",
    "                  verbose_eval=100)"
   ]
  },
  {
   "cell_type": "code",
   "execution_count": 80,
   "metadata": {},
   "outputs": [],
   "source": [
    "y_pred_val = model_lgb.predict(validation_set_features, num_iteration = model_lgb.best_iteration)"
   ]
  },
  {
   "cell_type": "code",
   "execution_count": 81,
   "metadata": {},
   "outputs": [
    {
     "name": "stdout",
     "output_type": "stream",
     "text": [
      "0.4\n",
      "WMAPE Score:  39.65  %\n"
     ]
    }
   ],
   "source": [
    "WMAPE(y_pred_val, validation_set_y)"
   ]
  },
  {
   "cell_type": "markdown",
   "metadata": {},
   "source": [
    "# Predictions on the Test Set\n",
    "****"
   ]
  },
  {
   "cell_type": "markdown",
   "metadata": {},
   "source": [
    "After taking only the most important features, using the best performing model on the validation set to predict test set results:"
   ]
  },
  {
   "cell_type": "code",
   "execution_count": 82,
   "metadata": {},
   "outputs": [],
   "source": [
    "X_test_features = X_test[[\"key\", \"year\", \"month\", \"x10\", \"x22\", \"x85\", \"x92\", \"x109\"]]"
   ]
  },
  {
   "cell_type": "code",
   "execution_count": 83,
   "metadata": {},
   "outputs": [],
   "source": [
    "y_test = model_lgb.predict(X_test_features, num_iteration = model_lgb.best_iteration)"
   ]
  },
  {
   "cell_type": "code",
   "execution_count": 84,
   "metadata": {},
   "outputs": [],
   "source": [
    "y_test = pd.DataFrame(y_test, columns = [\"y\"])"
   ]
  },
  {
   "cell_type": "code",
   "execution_count": 97,
   "metadata": {},
   "outputs": [
    {
     "data": {
      "text/html": [
       "<div>\n",
       "<style scoped>\n",
       "    .dataframe tbody tr th:only-of-type {\n",
       "        vertical-align: middle;\n",
       "    }\n",
       "\n",
       "    .dataframe tbody tr th {\n",
       "        vertical-align: top;\n",
       "    }\n",
       "\n",
       "    .dataframe thead th {\n",
       "        text-align: right;\n",
       "    }\n",
       "</style>\n",
       "<table border=\"1\" class=\"dataframe\">\n",
       "  <thead>\n",
       "    <tr style=\"text-align: right;\">\n",
       "      <th></th>\n",
       "      <th>key</th>\n",
       "      <th>x1</th>\n",
       "      <th>x2</th>\n",
       "      <th>x3</th>\n",
       "      <th>x4</th>\n",
       "      <th>x7</th>\n",
       "      <th>x8</th>\n",
       "      <th>x10</th>\n",
       "      <th>x12</th>\n",
       "      <th>x14</th>\n",
       "      <th>...</th>\n",
       "      <th>x103</th>\n",
       "      <th>x105</th>\n",
       "      <th>x106</th>\n",
       "      <th>x108</th>\n",
       "      <th>x109</th>\n",
       "      <th>x110</th>\n",
       "      <th>x112</th>\n",
       "      <th>month</th>\n",
       "      <th>year</th>\n",
       "      <th>id</th>\n",
       "    </tr>\n",
       "  </thead>\n",
       "  <tbody>\n",
       "    <tr>\n",
       "      <th>0</th>\n",
       "      <td>683</td>\n",
       "      <td>0.000000</td>\n",
       "      <td>0.000000</td>\n",
       "      <td>0.397238</td>\n",
       "      <td>0.0000</td>\n",
       "      <td>119.936184</td>\n",
       "      <td>114.063630</td>\n",
       "      <td>6024.457359</td>\n",
       "      <td>0.462340</td>\n",
       "      <td>6.499243</td>\n",
       "      <td>...</td>\n",
       "      <td>0.019900</td>\n",
       "      <td>0.000000</td>\n",
       "      <td>2206.040376</td>\n",
       "      <td>0.000000</td>\n",
       "      <td>39.599762</td>\n",
       "      <td>7.289597</td>\n",
       "      <td>27.328970</td>\n",
       "      <td>7</td>\n",
       "      <td>2018</td>\n",
       "      <td>0</td>\n",
       "    </tr>\n",
       "    <tr>\n",
       "      <th>1</th>\n",
       "      <td>683</td>\n",
       "      <td>NaN</td>\n",
       "      <td>0.000000</td>\n",
       "      <td>0.000000</td>\n",
       "      <td>0.0000</td>\n",
       "      <td>593.803092</td>\n",
       "      <td>NaN</td>\n",
       "      <td>6024.457359</td>\n",
       "      <td>NaN</td>\n",
       "      <td>NaN</td>\n",
       "      <td>...</td>\n",
       "      <td>0.000000</td>\n",
       "      <td>0.141846</td>\n",
       "      <td>130.027455</td>\n",
       "      <td>0.357027</td>\n",
       "      <td>33.098055</td>\n",
       "      <td>17.244210</td>\n",
       "      <td>3.189301</td>\n",
       "      <td>8</td>\n",
       "      <td>2018</td>\n",
       "      <td>1</td>\n",
       "    </tr>\n",
       "    <tr>\n",
       "      <th>2</th>\n",
       "      <td>683</td>\n",
       "      <td>0.000000</td>\n",
       "      <td>0.000000</td>\n",
       "      <td>0.000000</td>\n",
       "      <td>0.0000</td>\n",
       "      <td>222.106715</td>\n",
       "      <td>7.926074</td>\n",
       "      <td>3678.029954</td>\n",
       "      <td>1.158072</td>\n",
       "      <td>0.000000</td>\n",
       "      <td>...</td>\n",
       "      <td>88.110086</td>\n",
       "      <td>1.003184</td>\n",
       "      <td>NaN</td>\n",
       "      <td>NaN</td>\n",
       "      <td>8.638553</td>\n",
       "      <td>NaN</td>\n",
       "      <td>NaN</td>\n",
       "      <td>9</td>\n",
       "      <td>2018</td>\n",
       "      <td>2</td>\n",
       "    </tr>\n",
       "    <tr>\n",
       "      <th>3</th>\n",
       "      <td>683</td>\n",
       "      <td>0.607430</td>\n",
       "      <td>0.576041</td>\n",
       "      <td>0.000000</td>\n",
       "      <td>0.0000</td>\n",
       "      <td>59.588630</td>\n",
       "      <td>361.870894</td>\n",
       "      <td>5274.149878</td>\n",
       "      <td>2.838254</td>\n",
       "      <td>2.142438</td>\n",
       "      <td>...</td>\n",
       "      <td>6.852297</td>\n",
       "      <td>38.906611</td>\n",
       "      <td>102.735687</td>\n",
       "      <td>0.000000</td>\n",
       "      <td>14.646718</td>\n",
       "      <td>2.719439</td>\n",
       "      <td>0.267833</td>\n",
       "      <td>10</td>\n",
       "      <td>2018</td>\n",
       "      <td>3</td>\n",
       "    </tr>\n",
       "    <tr>\n",
       "      <th>4</th>\n",
       "      <td>683</td>\n",
       "      <td>0.000000</td>\n",
       "      <td>0.000000</td>\n",
       "      <td>0.000000</td>\n",
       "      <td>0.6485</td>\n",
       "      <td>1970.406869</td>\n",
       "      <td>6.444104</td>\n",
       "      <td>4552.412721</td>\n",
       "      <td>0.102331</td>\n",
       "      <td>0.000000</td>\n",
       "      <td>...</td>\n",
       "      <td>10.802692</td>\n",
       "      <td>1.605068</td>\n",
       "      <td>71.384402</td>\n",
       "      <td>0.000000</td>\n",
       "      <td>0.000000</td>\n",
       "      <td>2.190175</td>\n",
       "      <td>0.833723</td>\n",
       "      <td>11</td>\n",
       "      <td>2018</td>\n",
       "      <td>4</td>\n",
       "    </tr>\n",
       "    <tr>\n",
       "      <th>...</th>\n",
       "      <td>...</td>\n",
       "      <td>...</td>\n",
       "      <td>...</td>\n",
       "      <td>...</td>\n",
       "      <td>...</td>\n",
       "      <td>...</td>\n",
       "      <td>...</td>\n",
       "      <td>...</td>\n",
       "      <td>...</td>\n",
       "      <td>...</td>\n",
       "      <td>...</td>\n",
       "      <td>...</td>\n",
       "      <td>...</td>\n",
       "      <td>...</td>\n",
       "      <td>...</td>\n",
       "      <td>...</td>\n",
       "      <td>...</td>\n",
       "      <td>...</td>\n",
       "      <td>...</td>\n",
       "      <td>...</td>\n",
       "      <td>...</td>\n",
       "    </tr>\n",
       "    <tr>\n",
       "      <th>1423</th>\n",
       "      <td>99444</td>\n",
       "      <td>0.167286</td>\n",
       "      <td>0.000000</td>\n",
       "      <td>0.000000</td>\n",
       "      <td>0.0000</td>\n",
       "      <td>28.683344</td>\n",
       "      <td>671.811450</td>\n",
       "      <td>6024.457359</td>\n",
       "      <td>8.320817</td>\n",
       "      <td>28.992993</td>\n",
       "      <td>...</td>\n",
       "      <td>1.841767</td>\n",
       "      <td>38.906611</td>\n",
       "      <td>53.162367</td>\n",
       "      <td>0.000000</td>\n",
       "      <td>52.082725</td>\n",
       "      <td>0.764603</td>\n",
       "      <td>0.262702</td>\n",
       "      <td>2</td>\n",
       "      <td>2019</td>\n",
       "      <td>1423</td>\n",
       "    </tr>\n",
       "    <tr>\n",
       "      <th>1424</th>\n",
       "      <td>99444</td>\n",
       "      <td>0.000000</td>\n",
       "      <td>0.000000</td>\n",
       "      <td>0.000000</td>\n",
       "      <td>0.6485</td>\n",
       "      <td>114.679868</td>\n",
       "      <td>6.508677</td>\n",
       "      <td>6024.457359</td>\n",
       "      <td>0.000000</td>\n",
       "      <td>0.000000</td>\n",
       "      <td>...</td>\n",
       "      <td>0.000000</td>\n",
       "      <td>0.000000</td>\n",
       "      <td>11.386100</td>\n",
       "      <td>0.000000</td>\n",
       "      <td>142.196722</td>\n",
       "      <td>0.356890</td>\n",
       "      <td>0.000000</td>\n",
       "      <td>3</td>\n",
       "      <td>2019</td>\n",
       "      <td>1424</td>\n",
       "    </tr>\n",
       "    <tr>\n",
       "      <th>1425</th>\n",
       "      <td>99444</td>\n",
       "      <td>0.317642</td>\n",
       "      <td>0.000000</td>\n",
       "      <td>0.000000</td>\n",
       "      <td>NaN</td>\n",
       "      <td>2674.140175</td>\n",
       "      <td>575.320377</td>\n",
       "      <td>6024.457359</td>\n",
       "      <td>80.750194</td>\n",
       "      <td>0.000000</td>\n",
       "      <td>...</td>\n",
       "      <td>0.000000</td>\n",
       "      <td>0.284562</td>\n",
       "      <td>2.814448</td>\n",
       "      <td>0.000000</td>\n",
       "      <td>165.414227</td>\n",
       "      <td>0.038380</td>\n",
       "      <td>0.073461</td>\n",
       "      <td>4</td>\n",
       "      <td>2019</td>\n",
       "      <td>1425</td>\n",
       "    </tr>\n",
       "    <tr>\n",
       "      <th>1426</th>\n",
       "      <td>99444</td>\n",
       "      <td>0.000000</td>\n",
       "      <td>0.000000</td>\n",
       "      <td>0.598422</td>\n",
       "      <td>0.0000</td>\n",
       "      <td>677.526635</td>\n",
       "      <td>8.384144</td>\n",
       "      <td>6024.457359</td>\n",
       "      <td>0.629653</td>\n",
       "      <td>0.000000</td>\n",
       "      <td>...</td>\n",
       "      <td>7.098375</td>\n",
       "      <td>13.501808</td>\n",
       "      <td>28.990518</td>\n",
       "      <td>0.026931</td>\n",
       "      <td>58.296873</td>\n",
       "      <td>3.361134</td>\n",
       "      <td>0.000000</td>\n",
       "      <td>5</td>\n",
       "      <td>2019</td>\n",
       "      <td>1426</td>\n",
       "    </tr>\n",
       "    <tr>\n",
       "      <th>1427</th>\n",
       "      <td>99444</td>\n",
       "      <td>0.000000</td>\n",
       "      <td>0.000000</td>\n",
       "      <td>0.000000</td>\n",
       "      <td>0.0000</td>\n",
       "      <td>16.100786</td>\n",
       "      <td>80.009016</td>\n",
       "      <td>6024.457359</td>\n",
       "      <td>0.000000</td>\n",
       "      <td>0.000000</td>\n",
       "      <td>...</td>\n",
       "      <td>26.956189</td>\n",
       "      <td>0.000000</td>\n",
       "      <td>30.554309</td>\n",
       "      <td>0.000000</td>\n",
       "      <td>273.088747</td>\n",
       "      <td>0.000000</td>\n",
       "      <td>0.000000</td>\n",
       "      <td>6</td>\n",
       "      <td>2019</td>\n",
       "      <td>1427</td>\n",
       "    </tr>\n",
       "  </tbody>\n",
       "</table>\n",
       "<p>1428 rows × 71 columns</p>\n",
       "</div>"
      ],
      "text/plain": [
       "        key        x1        x2        x3      x4           x7          x8  \\\n",
       "0       683  0.000000  0.000000  0.397238  0.0000   119.936184  114.063630   \n",
       "1       683       NaN  0.000000  0.000000  0.0000   593.803092         NaN   \n",
       "2       683  0.000000  0.000000  0.000000  0.0000   222.106715    7.926074   \n",
       "3       683  0.607430  0.576041  0.000000  0.0000    59.588630  361.870894   \n",
       "4       683  0.000000  0.000000  0.000000  0.6485  1970.406869    6.444104   \n",
       "...     ...       ...       ...       ...     ...          ...         ...   \n",
       "1423  99444  0.167286  0.000000  0.000000  0.0000    28.683344  671.811450   \n",
       "1424  99444  0.000000  0.000000  0.000000  0.6485   114.679868    6.508677   \n",
       "1425  99444  0.317642  0.000000  0.000000     NaN  2674.140175  575.320377   \n",
       "1426  99444  0.000000  0.000000  0.598422  0.0000   677.526635    8.384144   \n",
       "1427  99444  0.000000  0.000000  0.000000  0.0000    16.100786   80.009016   \n",
       "\n",
       "              x10        x12        x14  ...       x103       x105  \\\n",
       "0     6024.457359   0.462340   6.499243  ...   0.019900   0.000000   \n",
       "1     6024.457359        NaN        NaN  ...   0.000000   0.141846   \n",
       "2     3678.029954   1.158072   0.000000  ...  88.110086   1.003184   \n",
       "3     5274.149878   2.838254   2.142438  ...   6.852297  38.906611   \n",
       "4     4552.412721   0.102331   0.000000  ...  10.802692   1.605068   \n",
       "...           ...        ...        ...  ...        ...        ...   \n",
       "1423  6024.457359   8.320817  28.992993  ...   1.841767  38.906611   \n",
       "1424  6024.457359   0.000000   0.000000  ...   0.000000   0.000000   \n",
       "1425  6024.457359  80.750194   0.000000  ...   0.000000   0.284562   \n",
       "1426  6024.457359   0.629653   0.000000  ...   7.098375  13.501808   \n",
       "1427  6024.457359   0.000000   0.000000  ...  26.956189   0.000000   \n",
       "\n",
       "             x106      x108        x109       x110       x112  month  year  \\\n",
       "0     2206.040376  0.000000   39.599762   7.289597  27.328970      7  2018   \n",
       "1      130.027455  0.357027   33.098055  17.244210   3.189301      8  2018   \n",
       "2             NaN       NaN    8.638553        NaN        NaN      9  2018   \n",
       "3      102.735687  0.000000   14.646718   2.719439   0.267833     10  2018   \n",
       "4       71.384402  0.000000    0.000000   2.190175   0.833723     11  2018   \n",
       "...           ...       ...         ...        ...        ...    ...   ...   \n",
       "1423    53.162367  0.000000   52.082725   0.764603   0.262702      2  2019   \n",
       "1424    11.386100  0.000000  142.196722   0.356890   0.000000      3  2019   \n",
       "1425     2.814448  0.000000  165.414227   0.038380   0.073461      4  2019   \n",
       "1426    28.990518  0.026931   58.296873   3.361134   0.000000      5  2019   \n",
       "1427    30.554309  0.000000  273.088747   0.000000   0.000000      6  2019   \n",
       "\n",
       "        id  \n",
       "0        0  \n",
       "1        1  \n",
       "2        2  \n",
       "3        3  \n",
       "4        4  \n",
       "...    ...  \n",
       "1423  1423  \n",
       "1424  1424  \n",
       "1425  1425  \n",
       "1426  1426  \n",
       "1427  1427  \n",
       "\n",
       "[1428 rows x 71 columns]"
      ]
     },
     "execution_count": 97,
     "metadata": {},
     "output_type": "execute_result"
    }
   ],
   "source": [
    "X_test"
   ]
  },
  {
   "cell_type": "code",
   "execution_count": 96,
   "metadata": {},
   "outputs": [],
   "source": [
    "X_test['id'] = np.arange(len(X_test))"
   ]
  },
  {
   "cell_type": "code",
   "execution_count": 93,
   "metadata": {},
   "outputs": [],
   "source": [
    "y_test['id'] = np.arange(len(y_test))"
   ]
  },
  {
   "cell_type": "markdown",
   "metadata": {},
   "source": [
    "combine x_test and y_test into y_test, and concat only 01 + month + year, and key and y prediction"
   ]
  },
  {
   "cell_type": "code",
   "execution_count": 102,
   "metadata": {},
   "outputs": [],
   "source": [
    "y_test = pd.merge(y_test, X_test, left_on = \"id\", right_on = \"id\")"
   ]
  },
  {
   "cell_type": "code",
   "execution_count": 167,
   "metadata": {},
   "outputs": [],
   "source": [
    "months = y_test['month'].astype(int)\n",
    "month_abbr = []\n",
    "date = []\n",
    "\n",
    "for month in months:\n",
    "    abbr = calendar.month_abbr[month]\n",
    "    month_abbr.append(abbr)\n",
    "\n",
    "for abbr in month_abbr:\n",
    "    date.append(\"01\" + abbr)\n",
    "    \n",
    "y_test['date'] = date + y_test['year'].astype(str)"
   ]
  },
  {
   "cell_type": "code",
   "execution_count": 171,
   "metadata": {},
   "outputs": [],
   "source": [
    "y_test = y_test[[\"key\", \"date\", \"y\"]]"
   ]
  },
  {
   "cell_type": "code",
   "execution_count": 172,
   "metadata": {},
   "outputs": [
    {
     "data": {
      "text/html": [
       "<div>\n",
       "<style scoped>\n",
       "    .dataframe tbody tr th:only-of-type {\n",
       "        vertical-align: middle;\n",
       "    }\n",
       "\n",
       "    .dataframe tbody tr th {\n",
       "        vertical-align: top;\n",
       "    }\n",
       "\n",
       "    .dataframe thead th {\n",
       "        text-align: right;\n",
       "    }\n",
       "</style>\n",
       "<table border=\"1\" class=\"dataframe\">\n",
       "  <thead>\n",
       "    <tr style=\"text-align: right;\">\n",
       "      <th></th>\n",
       "      <th>key</th>\n",
       "      <th>date</th>\n",
       "      <th>y</th>\n",
       "    </tr>\n",
       "  </thead>\n",
       "  <tbody>\n",
       "    <tr>\n",
       "      <th>0</th>\n",
       "      <td>683</td>\n",
       "      <td>01Jul2018</td>\n",
       "      <td>5080.077683</td>\n",
       "    </tr>\n",
       "    <tr>\n",
       "      <th>1</th>\n",
       "      <td>683</td>\n",
       "      <td>01Aug2018</td>\n",
       "      <td>4286.903518</td>\n",
       "    </tr>\n",
       "    <tr>\n",
       "      <th>2</th>\n",
       "      <td>683</td>\n",
       "      <td>01Sep2018</td>\n",
       "      <td>3613.895160</td>\n",
       "    </tr>\n",
       "    <tr>\n",
       "      <th>3</th>\n",
       "      <td>683</td>\n",
       "      <td>01Oct2018</td>\n",
       "      <td>2900.301780</td>\n",
       "    </tr>\n",
       "    <tr>\n",
       "      <th>4</th>\n",
       "      <td>683</td>\n",
       "      <td>01Nov2018</td>\n",
       "      <td>2437.221981</td>\n",
       "    </tr>\n",
       "    <tr>\n",
       "      <th>...</th>\n",
       "      <td>...</td>\n",
       "      <td>...</td>\n",
       "      <td>...</td>\n",
       "    </tr>\n",
       "    <tr>\n",
       "      <th>1423</th>\n",
       "      <td>99444</td>\n",
       "      <td>01Feb2019</td>\n",
       "      <td>3026.742473</td>\n",
       "    </tr>\n",
       "    <tr>\n",
       "      <th>1424</th>\n",
       "      <td>99444</td>\n",
       "      <td>01Mar2019</td>\n",
       "      <td>4804.224906</td>\n",
       "    </tr>\n",
       "    <tr>\n",
       "      <th>1425</th>\n",
       "      <td>99444</td>\n",
       "      <td>01Apr2019</td>\n",
       "      <td>5141.778987</td>\n",
       "    </tr>\n",
       "    <tr>\n",
       "      <th>1426</th>\n",
       "      <td>99444</td>\n",
       "      <td>01May2019</td>\n",
       "      <td>5849.527317</td>\n",
       "    </tr>\n",
       "    <tr>\n",
       "      <th>1427</th>\n",
       "      <td>99444</td>\n",
       "      <td>01Jun2019</td>\n",
       "      <td>6671.697500</td>\n",
       "    </tr>\n",
       "  </tbody>\n",
       "</table>\n",
       "<p>1428 rows × 3 columns</p>\n",
       "</div>"
      ],
      "text/plain": [
       "        key       date            y\n",
       "0       683  01Jul2018  5080.077683\n",
       "1       683  01Aug2018  4286.903518\n",
       "2       683  01Sep2018  3613.895160\n",
       "3       683  01Oct2018  2900.301780\n",
       "4       683  01Nov2018  2437.221981\n",
       "...     ...        ...          ...\n",
       "1423  99444  01Feb2019  3026.742473\n",
       "1424  99444  01Mar2019  4804.224906\n",
       "1425  99444  01Apr2019  5141.778987\n",
       "1426  99444  01May2019  5849.527317\n",
       "1427  99444  01Jun2019  6671.697500\n",
       "\n",
       "[1428 rows x 3 columns]"
      ]
     },
     "execution_count": 172,
     "metadata": {},
     "output_type": "execute_result"
    }
   ],
   "source": [
    "y_test"
   ]
  },
  {
   "cell_type": "code",
   "execution_count": 173,
   "metadata": {},
   "outputs": [],
   "source": [
    "y_test.to_csv(\"y_test.csv\")"
   ]
  },
  {
   "cell_type": "code",
   "execution_count": null,
   "metadata": {},
   "outputs": [],
   "source": []
  }
 ],
 "metadata": {
  "kernelspec": {
   "display_name": "Python 3",
   "language": "python",
   "name": "python3"
  },
  "language_info": {
   "codemirror_mode": {
    "name": "ipython",
    "version": 3
   },
   "file_extension": ".py",
   "mimetype": "text/x-python",
   "name": "python",
   "nbconvert_exporter": "python",
   "pygments_lexer": "ipython3",
   "version": "3.8.5"
  }
 },
 "nbformat": 4,
 "nbformat_minor": 4
}
